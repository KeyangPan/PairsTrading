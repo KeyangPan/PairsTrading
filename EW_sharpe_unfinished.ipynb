{
 "cells": [
  {
   "cell_type": "markdown",
   "id": "2a190585",
   "metadata": {},
   "source": [
    "* Important Note: \n",
    "\n",
    "Backtesting strategy for EW and Sharpe optimization strategy has not been finished.\n",
    "\n",
    "Only Mean Reverting Portfolio Optimizer (see main.py and visualization.ipynb) is finished."
   ]
  },
  {
   "cell_type": "markdown",
   "id": "c27e36d9",
   "metadata": {},
   "source": [
    "# data loading and initial filtering"
   ]
  },
  {
   "cell_type": "code",
   "execution_count": 1,
   "id": "fd0f643a",
   "metadata": {},
   "outputs": [
    {
     "name": "stdout",
     "output_type": "stream",
     "text": [
      "35432 pairs selected\n",
      "min distance 0.0\n",
      "max distance 0.7758473415183631\n",
      "5938 out of 35432 pairs passed the test\n",
      "pass rate: 0.17\n"
     ]
    }
   ],
   "source": [
    "import math\n",
    "from data_loader import Data_loader\n",
    "from pair_filter import NPD_filter\n",
    "from pair_filter import OLS_filter\n",
    "import matplotlib.pyplot as plt\n",
    "\n",
    "\n",
    "\n",
    "# loading data\n",
    "start_idx = 0\n",
    "\n",
    "\n",
    "dl = Data_loader(num_month_train=8, num_month_test=2)\n",
    "window_train, window_test = dl.get_window(start_idx=start_idx)\n",
    "\n",
    "\n",
    "# NPD selection\n",
    "NPD = NPD_filter(window_train)\n",
    "pairs, distance = NPD.select_pairs(percentile=5, verbose=True)\n",
    "\n",
    "# OLS selection\n",
    "OLS = OLS_filter(window_train)\n",
    "pairs, params = OLS.select_pairs(pairs, verbose=True, confidence_level=0.01)\n"
   ]
  },
  {
   "cell_type": "markdown",
   "id": "a31dd7b6",
   "metadata": {},
   "source": [
    "# select top-k pairs accorindg to train sharpe ratio"
   ]
  },
  {
   "cell_type": "code",
   "execution_count": 2,
   "id": "9b229ab0",
   "metadata": {},
   "outputs": [],
   "source": [
    "from backtest import *\n",
    "\n",
    "top_k = 50\n",
    "\n",
    "bt = PairTradingBacktester_TrainTest(pairs[:300], params[:300], window_train, window_test) # for testing purpose\n",
    "# bt = PairTradingBacktester_TrainTest(pairs, params, window_train, window_test) # complete\n",
    "summary = bt.run(top_k=top_k)\n",
    "\n",
    "\n",
    "spreads_train  = bt.train_spreads_df\n",
    "spreads_test  = bt.test_spreads_df\n",
    "returns_test   = bt.test_returns_df\n",
    "returns_train   = bt.train_returns_df\n",
    "comp_weights=bt.comp_weights"
   ]
  },
  {
   "cell_type": "markdown",
   "id": "fa2b9eb7",
   "metadata": {},
   "source": [
    "# EW optimizer"
   ]
  },
  {
   "cell_type": "code",
   "execution_count": 3,
   "id": "be09391b",
   "metadata": {},
   "outputs": [
    {
     "name": "stdout",
     "output_type": "stream",
     "text": [
      "(CVXPY) May 11 04:36:25 PM: Encountered unexpected exception importing solver CVXOPT:\n",
      "ImportError(\"dlopen(/Users/keyangpan/anaconda3/lib/python3.11/site-packages/cvxopt/base.cpython-311-darwin.so, 0x0002): Library not loaded: @rpath/liblapack.3.dylib\\n  Referenced from: <E25E40AB-7857-39B9-8DE7-28B7B0E4806B> /Users/keyangpan/anaconda3/lib/python3.11/site-packages/cvxopt/base.cpython-311-darwin.so\\n  Reason: tried: '/Users/keyangpan/anaconda3/lib/python3.11/site-packages/cvxopt/../../../liblapack.3.dylib' (no such file), '/Users/keyangpan/anaconda3/lib/python3.11/site-packages/cvxopt/../../../liblapack.3.dylib' (no such file), '/Users/keyangpan/anaconda3/bin/../lib/liblapack.3.dylib' (no such file), '/Users/keyangpan/anaconda3/bin/../lib/liblapack.3.dylib' (no such file), '/usr/local/lib/liblapack.3.dylib' (no such file), '/usr/lib/liblapack.3.dylib' (no such file, not in dyld cache)\")\n",
      "(CVXPY) May 11 04:36:25 PM: Encountered unexpected exception importing solver GLPK:\n",
      "ImportError(\"dlopen(/Users/keyangpan/anaconda3/lib/python3.11/site-packages/cvxopt/base.cpython-311-darwin.so, 0x0002): Library not loaded: @rpath/liblapack.3.dylib\\n  Referenced from: <E25E40AB-7857-39B9-8DE7-28B7B0E4806B> /Users/keyangpan/anaconda3/lib/python3.11/site-packages/cvxopt/base.cpython-311-darwin.so\\n  Reason: tried: '/Users/keyangpan/anaconda3/lib/python3.11/site-packages/cvxopt/../../../liblapack.3.dylib' (no such file), '/Users/keyangpan/anaconda3/lib/python3.11/site-packages/cvxopt/../../../liblapack.3.dylib' (no such file), '/Users/keyangpan/anaconda3/bin/../lib/liblapack.3.dylib' (no such file), '/Users/keyangpan/anaconda3/bin/../lib/liblapack.3.dylib' (no such file), '/usr/local/lib/liblapack.3.dylib' (no such file), '/usr/lib/liblapack.3.dylib' (no such file, not in dyld cache)\")\n",
      "(CVXPY) May 11 04:36:25 PM: Encountered unexpected exception importing solver GLPK_MI:\n",
      "ImportError(\"dlopen(/Users/keyangpan/anaconda3/lib/python3.11/site-packages/cvxopt/base.cpython-311-darwin.so, 0x0002): Library not loaded: @rpath/liblapack.3.dylib\\n  Referenced from: <E25E40AB-7857-39B9-8DE7-28B7B0E4806B> /Users/keyangpan/anaconda3/lib/python3.11/site-packages/cvxopt/base.cpython-311-darwin.so\\n  Reason: tried: '/Users/keyangpan/anaconda3/lib/python3.11/site-packages/cvxopt/../../../liblapack.3.dylib' (no such file), '/Users/keyangpan/anaconda3/lib/python3.11/site-packages/cvxopt/../../../liblapack.3.dylib' (no such file), '/Users/keyangpan/anaconda3/bin/../lib/liblapack.3.dylib' (no such file), '/Users/keyangpan/anaconda3/bin/../lib/liblapack.3.dylib' (no such file), '/usr/local/lib/liblapack.3.dylib' (no such file), '/usr/lib/liblapack.3.dylib' (no such file, not in dyld cache)\")\n"
     ]
    },
    {
     "data": {
      "text/plain": [
       "8.285872668905737"
      ]
     },
     "execution_count": 3,
     "metadata": {},
     "output_type": "execute_result"
    }
   ],
   "source": [
    "from optimizers import EW_optimizer\n",
    "\n",
    "optimal_weights=EW_optimizer(returns_train) # train on training data\n",
    "\n",
    "port_ret=(optimal_weights*returns_test).sum(axis=1) # test on testing data\n",
    "\n",
    "\n",
    "port_ret.mean()*np.sqrt(252)/port_ret.std() # calculate out-of-sample sharpe ratio"
   ]
  },
  {
   "cell_type": "markdown",
   "id": "be392934",
   "metadata": {},
   "source": [
    "# Sharpe Optimizer"
   ]
  },
  {
   "cell_type": "code",
   "execution_count": 4,
   "id": "46707aac",
   "metadata": {},
   "outputs": [
    {
     "data": {
      "text/plain": [
       "8.662738592720032"
      ]
     },
     "execution_count": 4,
     "metadata": {},
     "output_type": "execute_result"
    }
   ],
   "source": [
    "from optimizers import Sharpe_optimizer\n",
    "\n",
    "optimal_weights=Sharpe_optimizer(returns_train)  # train on training data\n",
    "port_ret=(optimal_weights*returns_test).sum(axis=1) # test on testing data\n",
    "port_ret.mean()*np.sqrt(252)/port_ret.std() # calculate out-of-sample sharpe ratio"
   ]
  },
  {
   "cell_type": "code",
   "execution_count": null,
   "id": "53412174",
   "metadata": {},
   "outputs": [],
   "source": []
  }
 ],
 "metadata": {
  "kernelspec": {
   "display_name": "base",
   "language": "python",
   "name": "python3"
  },
  "language_info": {
   "codemirror_mode": {
    "name": "ipython",
    "version": 3
   },
   "file_extension": ".py",
   "mimetype": "text/x-python",
   "name": "python",
   "nbconvert_exporter": "python",
   "pygments_lexer": "ipython3",
   "version": "3.11.5"
  }
 },
 "nbformat": 4,
 "nbformat_minor": 5
}
