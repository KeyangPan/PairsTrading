{
 "cells": [
  {
   "cell_type": "markdown",
   "id": "6c428ad5",
   "metadata": {},
   "source": [
    "读取nasdaq官方提供的文件，包含:\n",
    "1. 20250428所有nasdaq上市股票信息\n",
    "2. 20250428所有nyse上市股票信息\n",
    "\n",
    "提取股票tickers存为txt文件，用于从WRDS下载股票历史价格数据"
   ]
  },
  {
   "cell_type": "code",
   "execution_count": 3,
   "id": "f676e794",
   "metadata": {},
   "outputs": [],
   "source": [
    "import pandas as pd\n",
    "import numpy as np\n",
    "import os\n",
    "import yfinance as yf\n",
    "\n",
    "\n",
    "def get_stock_tickers(exchange=\"nasdaq\"):\n",
    "    assert (exchange == \"nasdaq\") or (exchange == 'nyse')\n",
    "\n",
    "    folder = 'stock_tickers/'\n",
    "    file = \"stocklist_nasdaq_20250428.csv\" if exchange=='nasdaq' else \"stocklist_nyse_20250428.csv\"\n",
    "\n",
    "    data = pd.read_csv(folder+file)\n",
    "    tickers = list(data['Symbol'])\n",
    "\n",
    "    print(f\"read {len(tickers)} tickers from {folder+file}\")\n",
    "    return tickers\n",
    "\n",
    "def export_list_to_txt(my_list, filename):\n",
    "\n",
    "    with open(filename, 'w') as file:\n",
    "        for item in my_list:\n",
    "            file.write(f\"{item}\\n\")  # Write item followed by newline\n",
    "    print(f\"Successfully exported {len(my_list)} items to {filename}\")\n"
   ]
  },
  {
   "cell_type": "code",
   "execution_count": null,
   "id": "c03dc2c2",
   "metadata": {},
   "outputs": [],
   "source": [
    "tickers_nasdaq = get_stock_tickers()\n",
    "\n",
    "filename = \"nasdaq_tickers.txt\"\n",
    "export_list_to_txt(tickers_nasdaq, filename)"
   ]
  },
  {
   "cell_type": "code",
   "execution_count": 5,
   "id": "09c4c45c",
   "metadata": {},
   "outputs": [
    {
     "name": "stdout",
     "output_type": "stream",
     "text": [
      "read 2155 tickers from stock_tickers/stocklist_nyse_20250428.csv\n",
      "Successfully exported 2155 items to nyse_tickers.txt\n"
     ]
    }
   ],
   "source": [
    "tickers_nasdaq = get_stock_tickers('nyse')\n",
    "\n",
    "filename = \"nyse_tickers.txt\"\n",
    "export_list_to_txt(tickers_nasdaq, filename)"
   ]
  },
  {
   "cell_type": "code",
   "execution_count": null,
   "id": "875a2f65",
   "metadata": {},
   "outputs": [],
   "source": []
  }
 ],
 "metadata": {
  "kernelspec": {
   "display_name": "base",
   "language": "python",
   "name": "python3"
  },
  "language_info": {
   "codemirror_mode": {
    "name": "ipython",
    "version": 3
   },
   "file_extension": ".py",
   "mimetype": "text/x-python",
   "name": "python",
   "nbconvert_exporter": "python",
   "pygments_lexer": "ipython3",
   "version": "3.11.5"
  }
 },
 "nbformat": 4,
 "nbformat_minor": 5
}
