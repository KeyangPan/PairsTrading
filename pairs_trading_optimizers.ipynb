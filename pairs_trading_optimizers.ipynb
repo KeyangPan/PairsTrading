{
 "cells": [
  {
   "cell_type": "markdown",
   "id": "22fad9ee",
   "metadata": {},
   "source": [
    "# data loading"
   ]
  },
  {
   "cell_type": "code",
   "execution_count": 1,
   "id": "be1e3d18",
   "metadata": {},
   "outputs": [],
   "source": [
    "from data_loader import Data_loader\n",
    "\n",
    "# 用前2/3的数据用于训练,后1/3数据用于测试\n",
    "# window_length = 1.5 years\n",
    "\n",
    "dl = Data_loader()\n",
    "start_idx = 0\n",
    "window_train, window_test = dl.get_window(start_idx=start_idx)"
   ]
  },
  {
   "cell_type": "markdown",
   "id": "b4416e92",
   "metadata": {},
   "source": [
    "# 在每个window内筛选paris\n",
    "\n"
   ]
  },
  {
   "cell_type": "markdown",
   "id": "f2b78b57",
   "metadata": {},
   "source": [
    "## 1.normalized price distance初筛"
   ]
  },
  {
   "cell_type": "code",
   "execution_count": null,
   "id": "2b7692a2",
   "metadata": {},
   "outputs": [
    {
     "name": "stdout",
     "output_type": "stream",
     "text": [
      "Basic Statistics for distances:\n",
      "Mean: 5286219.084745647\n",
      "Median: 16.611412381093956\n",
      "Standard Deviation: 114968276.66669613\n",
      "\n",
      "Percentiles:\n",
      "0th percentile: 0.06935615485767097\n",
      "25th percentile: 6.543446734558261\n",
      "50th percentile: 16.611412381093956\n",
      "75th percentile: 41.862403733135274\n",
      "100th percentile: 2763430370.728946\n",
      "\n",
      "Minimum: 0.06935615485767097\n",
      "Maximum: 2763430370.728946\n"
     ]
    },
    {
     "data": {
      "image/png": "[encoded data removed]",
      "text/plain": [
       "<Figure size 432x288 with 1 Axes>"
      ]
     },
     "metadata": {},
     "output_type": "display_data"
    }
   ],
   "source": [
    "from pair_filter import NPD_filter\n",
    "\n",
    "NPD = NPD_filter(window_train)\n",
    "\n",
    "NPD.visualize_price_distance()\n"
   ]
  },
  {
   "cell_type": "code",
   "execution_count": null,
   "id": "81102500",
   "metadata": {},
   "outputs": [
    {
     "name": "stdout",
     "output_type": "stream",
     "text": [
      "34018 pairs selected\n",
      "min distance 0.06935615485767097\n",
      "max distance 1.921438805060201\n"
     ]
    }
   ],
   "source": [
    "pairs, distance = NPD.select_pairs(percentile=5, verbose=True)"
   ]
  },
  {
   "cell_type": "markdown",
   "id": "1c189283",
   "metadata": {},
   "source": [
    "## 2.OLS regressin进一步筛选\n",
    "\n",
    "$y_{1, t} = \\gamma * y_{2, t} + \\mu + \\epsilon_{t}$\n",
    "\n",
    "测试epsilon是否staionary"
   ]
  },
  {
   "cell_type": "code",
   "execution_count": null,
   "id": "371eb9a4",
   "metadata": {},
   "outputs": [
    {
     "name": "stdout",
     "output_type": "stream",
     "text": [
      "11323 out of 34018 pairs passed the test\n",
      "pass rate: 0.33\n"
     ]
    }
   ],
   "source": [
    "from pair_filter import OLS_filter\n",
    "\n",
    "OLS = OLS_filter(window_train)\n",
    "\n",
    "pairs, params = OLS.select_pairs(pairs, verbose=True)"
   ]
  },
  {
   "cell_type": "markdown",
   "id": "a5adadaf",
   "metadata": {},
   "source": [
    "## cache pairs, params"
   ]
  },
  {
   "cell_type": "code",
   "execution_count": null,
   "id": "9cbfcc53",
   "metadata": {},
   "outputs": [
    {
     "name": "stdout",
     "output_type": "stream",
     "text": [
      "Saved to cache/pairs_params.pkl ✅\n"
     ]
    }
   ],
   "source": [
    "# import pickle\n",
    "# import os\n",
    "\n",
    "# # 确保 cache 文件夹存在\n",
    "# os.makedirs('cache', exist_ok=True)\n",
    "\n",
    "# # 组合数据\n",
    "# data = {'pairs': pairs, 'params': params}\n",
    "\n",
    "# # 保存\n",
    "# with open('cache/pairs_params.pkl', 'wb') as f:\n",
    "#     pickle.dump(data, f)\n",
    "\n",
    "# print(\"Saved to cache/pairs_params.pkl ✅\")\n"
   ]
  },
  {
   "cell_type": "code",
   "execution_count": 2,
   "id": "5cba7224",
   "metadata": {},
   "outputs": [],
   "source": [
    "import pickle\n",
    "\n",
    "with open('cache/pairs_params.pkl', 'rb') as f:\n",
    "    data = pickle.load(f)\n",
    "\n",
    "pairs = data['pairs']\n",
    "params = data['params']"
   ]
  },
  {
   "cell_type": "markdown",
   "id": "1e4915ba",
   "metadata": {},
   "source": [
    "# optimizers"
   ]
  },
  {
   "cell_type": "code",
   "execution_count": null,
   "id": "4c4233f6",
   "metadata": {},
   "outputs": [
    {
     "name": "stdout",
     "output_type": "stream",
     "text": [
      "(CVXPY) May 07 08:09:27 PM: Encountered unexpected exception importing solver CVXOPT:\n",
      "ImportError('DLL load failed while importing base: 找不到指定的模块。')\n",
      "(CVXPY) May 07 08:09:27 PM: Encountered unexpected exception importing solver GLPK:\n",
      "ImportError('DLL load failed while importing base: 找不到指定的模块。')\n",
      "(CVXPY) May 07 08:09:27 PM: Encountered unexpected exception importing solver GLPK_MI:\n",
      "ImportError('DLL load failed while importing base: 找不到指定的模块。')\n"
     ]
    }
   ],
   "source": [
    "from optimizers import *\n",
    "from backtest import *"
   ]
  },
  {
   "cell_type": "markdown",
   "id": "d480a5c6",
   "metadata": {},
   "source": [
    "## filter good pairs"
   ]
  },
  {
   "cell_type": "code",
   "execution_count": 5,
   "id": "28c1f986",
   "metadata": {},
   "outputs": [
    {
     "data": {
      "application/vnd.jupyter.widget-view+json": {
       "model_id": "ade906891331450d9a2425a0fb3cd34e",
       "version_major": 2,
       "version_minor": 0
      },
      "text/plain": [
       "Train back‑test:   0%|          | 0/300 [00:00<?, ?it/s]"
      ]
     },
     "metadata": {},
     "output_type": "display_data"
    },
    {
     "data": {
      "application/vnd.jupyter.widget-view+json": {
       "model_id": "1d41c32abec149f0b4fe7e9bc458c27b",
       "version_major": 2,
       "version_minor": 0
      },
      "text/plain": [
       "Test back‑test:   0%|          | 0/50 [00:00<?, ?it/s]"
      ]
     },
     "metadata": {},
     "output_type": "display_data"
    }
   ],
   "source": [
    "bt = PairTradingBacktester_TrainTest(pairs[:300], params[:300], window_train, window_test) # for testing purpose\n",
    "# bt = PairTradingBacktester_TrainTest(pairs, params, window_train, window_test) # complete\n",
    "summary = bt.run(top_k=50)\n",
    "\n",
    "# ① 所有 top‑k pair 的价差 & 收益矩阵\n",
    "spreads_train  = bt.train_spreads_df\n",
    "spreads_test  = bt.test_spreads_df\n",
    "\n",
    "returns_test   = bt.test_returns_df\n",
    "returns_train   = bt.train_returns_df\n",
    "\n",
    "comp_weights=bt.comp_weights\n"
   ]
  },
  {
   "cell_type": "markdown",
   "id": "0d55f71a",
   "metadata": {},
   "source": [
    "## EW optimizer"
   ]
  },
  {
   "cell_type": "code",
   "execution_count": null,
   "id": "25b4c7db",
   "metadata": {},
   "outputs": [
    {
     "data": {
      "text/plain": [
       "3.620973505661546"
      ]
     },
     "execution_count": 6,
     "metadata": {},
     "output_type": "execute_result"
    }
   ],
   "source": [
    "optimal_weights=EW_optimizer(returns_train) # train on training data\n",
    "\n",
    "port_ret=(optimal_weights*returns_test).sum(axis=1) # test on testing data\n",
    "\n",
    "port_ret.mean()*np.sqrt(252)/port_ret.std() # calculate out-of-sample sharpe ratio"
   ]
  },
  {
   "cell_type": "markdown",
   "id": "979270f4",
   "metadata": {},
   "source": [
    "## Sharpe optimizer"
   ]
  },
  {
   "cell_type": "code",
   "execution_count": null,
   "id": "f214a541",
   "metadata": {},
   "outputs": [
    {
     "data": {
      "text/plain": [
       "5.351008833350467"
      ]
     },
     "execution_count": 7,
     "metadata": {},
     "output_type": "execute_result"
    }
   ],
   "source": [
    "optimal_weights=Sharpe_optimizer(returns_train)  # train on training data\n",
    "\n",
    "port_ret=(optimal_weights*returns_test).sum(axis=1) # test on testing data\n",
    "\n",
    "port_ret.mean()*np.sqrt(252)/port_ret.std() # calculate out-of-sample sharpe ratio"
   ]
  },
  {
   "cell_type": "markdown",
   "id": "8e920d6f",
   "metadata": {},
   "source": [
    "## MRP optimizer"
   ]
  },
  {
   "cell_type": "code",
   "execution_count": 8,
   "id": "1402cde5",
   "metadata": {},
   "outputs": [
    {
     "name": "stdout",
     "output_type": "stream",
     "text": [
      "The maximum number of function evaluations is exceeded.\n",
      "Number of iterations: 5000, function evaluations: 5001, CG iterations: 8002, optimality: 9.82e-02, constraint violation: 3.07e-08, execution time:  8.5 s.\n"
     ]
    }
   ],
   "source": [
    "optimal_weights=MRP_optimizer_scipy(spreads_data=spreads_train)"
   ]
  },
  {
   "cell_type": "code",
   "execution_count": 9,
   "id": "0bc6aca1",
   "metadata": {},
   "outputs": [
    {
     "data": {
      "text/plain": [
       "[<matplotlib.lines.Line2D at 0x15f132bfee0>]"
      ]
     },
     "execution_count": 9,
     "metadata": {},
     "output_type": "execute_result"
    },
    {
     "data": {
      "image/png": "[encoded data removed]",
      "text/plain": [
       "<Figure size 432x288 with 1 Axes>"
      ]
     },
     "metadata": {
      "needs_background": "light"
     },
     "output_type": "display_data"
    }
   ],
   "source": [
    "import matplotlib as mpl\n",
    "\n",
    "import matplotlib.pyplot as plt\n",
    "\n",
    "combined_spread=(optimal_weights*spreads_train).sum(axis=1) # linearly combine different spreads (training set)\n",
    "\n",
    "combined_spread_mu=combined_spread.mean()\n",
    "combined_spread_std=combined_spread.std()\n",
    "\n",
    "\n",
    "plt.plot(combined_spread)"
   ]
  },
  {
   "cell_type": "markdown",
   "id": "4693ce19",
   "metadata": {},
   "source": [
    "可以看到，mean-reverting portfolio optimization在训练集上的效果极好，在保持大方差（单次交易利润）的前提下，基本完全消除了时间序列上的相关性，均值回归的速度极快。"
   ]
  },
  {
   "cell_type": "code",
   "execution_count": 10,
   "id": "1257967d",
   "metadata": {},
   "outputs": [
    {
     "data": {
      "text/plain": [
       "[<matplotlib.lines.Line2D at 0x15f1338bb20>]"
      ]
     },
     "execution_count": 10,
     "metadata": {},
     "output_type": "execute_result"
    },
    {
     "data": {
      "image/png": "[encoded data removed]",
      "text/plain": [
       "<Figure size 432x288 with 1 Axes>"
      ]
     },
     "metadata": {
      "needs_background": "light"
     },
     "output_type": "display_data"
    }
   ],
   "source": [
    "combined_spread=(optimal_weights*spreads_test).sum(axis=1) # linearly combine different spreads (testing set)\n",
    "\n",
    "combined_spread_mu=combined_spread.mean()\n",
    "combined_spread_std=combined_spread.std()\n",
    "\n",
    "\n",
    "plt.plot(combined_spread)"
   ]
  },
  {
   "cell_type": "markdown",
   "id": "16e7e984",
   "metadata": {},
   "source": [
    "<font color='red'>\n",
    "\n",
    "测试集上其实也是牛的，但是中间发生了结构性改变，是由于rebalance频率太低导致的。需要潘神把rebalance频率提高\n",
    "\n",
    "</font>"
   ]
  },
  {
   "cell_type": "code",
   "execution_count": null,
   "id": "16945e22",
   "metadata": {},
   "outputs": [
    {
     "data": {
      "text/plain": [
       "stock\n",
       "AEP    -0.038985\n",
       "AMRC    0.493419\n",
       "ATO    -0.264892\n",
       "BCE     0.010688\n",
       "BIF     0.232257\n",
       "BMY     0.076239\n",
       "BTT    -0.007713\n",
       "CMU     0.375293\n",
       "CXE     0.290182\n",
       "CXH    -0.119151\n",
       "DSM     0.084848\n",
       "FARM    0.008493\n",
       "FPL     0.013645\n",
       "FRST    0.027686\n",
       "HE     -0.035832\n",
       "HRB    -0.051966\n",
       "IFF    -0.026585\n",
       "IPW     0.065776\n",
       "JHS    -0.067745\n",
       "KTF     0.042468\n",
       "LEO    -0.041858\n",
       "MAYS   -0.141320\n",
       "MCN     0.047446\n",
       "MDU    -0.009854\n",
       "MGEE   -0.029156\n",
       "MGF    -0.193549\n",
       "MHF    -0.112224\n",
       "MSEX    0.141378\n",
       "MVF     0.133742\n",
       "MWV    -0.095280\n",
       "NCA     0.050473\n",
       "NJR     0.020049\n",
       "NMI     0.317168\n",
       "NNY    -0.005376\n",
       "NUV     0.237710\n",
       "OTTR   -0.015593\n",
       "PCF     0.100776\n",
       "PDI     0.061023\n",
       "PEBK   -0.302367\n",
       "PMM    -0.111106\n",
       "SCP    -0.089738\n",
       "TFB     0.201927\n",
       "TRMK    0.033894\n",
       "UHT    -0.261814\n",
       "UNP    -0.004922\n",
       "VXS    -0.044487\n",
       "WAG     0.008596\n",
       "WR     -0.003663\n",
       "Name: flat_w, dtype: float64"
      ]
     },
     "execution_count": 11,
     "metadata": {},
     "output_type": "execute_result"
    }
   ],
   "source": [
    "\n",
    "weights_by_levels=pd.concat([comp_weights.reset_index(level=1),optimal_weights],axis=1) # different levels of weights, combined by pair index\n",
    "\n",
    "weights_by_levels['flat_w']=weights_by_levels['component_w']*weights_by_levels['opt_w']\n",
    "weights_single_stocks=weights_by_levels.groupby('stock')['flat_w'].sum()\n",
    "weights_single_stocks"
   ]
  },
  {
   "cell_type": "markdown",
   "id": "702488e9",
   "metadata": {},
   "source": [
    "<font color='red'>\n",
    "\n",
    "请注意，weights_single_stocks的数值并不是指资金权重，而是log price线性组合的权重。需要潘神正确地处理这个逻辑，正确计算returns。\n",
    "\n",
    "</font>"
   ]
  },
  {
   "cell_type": "markdown",
   "id": "2b3f78a6",
   "metadata": {},
   "source": [
    "<font color='blue'>\n",
    "\n",
    "潘神todos:\n",
    "\n",
    "1. 把mean-reversion portfolio的交易逻辑写出来。\n",
    "2. 把rebalancing的频率调成月频，滚动回测3个不同的optimizers。\n",
    "\n",
    "</font>"
   ]
  },
  {
   "cell_type": "markdown",
   "id": "f2caae5d",
   "metadata": {},
   "source": [
    "<font color='green'>\n",
    "\n",
    "与潘神确认：\n",
    "\n",
    "1. beta是线性组合的权重，不是资金权重，是否有正确处理这个逻辑？\n",
    "2. \n",
    "\n",
    "</font>"
   ]
  }
 ],
 "metadata": {
  "kernelspec": {
   "display_name": "base",
   "language": "python",
   "name": "python3"
  },
  "language_info": {
   "codemirror_mode": {
    "name": "ipython",
    "version": 3
   },
   "file_extension": ".py",
   "mimetype": "text/x-python",
   "name": "python",
   "nbconvert_exporter": "python",
   "pygments_lexer": "ipython3",
   "version": "3.9.7"
  }
 },
 "nbformat": 4,
 "nbformat_minor": 5
}
