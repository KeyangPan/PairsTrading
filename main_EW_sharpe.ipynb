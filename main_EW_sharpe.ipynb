{
 "cells": [
  {
   "cell_type": "markdown",
   "id": "c27e36d9",
   "metadata": {},
   "source": [
    "# data loading and initial filtering"
   ]
  },
  {
   "cell_type": "code",
   "execution_count": 1,
   "id": "fd0f643a",
   "metadata": {},
   "outputs": [
    {
     "name": "stdout",
     "output_type": "stream",
     "text": [
      "35432 pairs selected\n",
      "min distance 0.0\n",
      "max distance 0.7758473415183631\n",
      "5938 out of 35432 pairs passed the test\n",
      "pass rate: 0.17\n"
     ]
    }
   ],
   "source": [
    "import math\n",
    "from data_loader import Data_loader\n",
    "from pair_filter import NPD_filter\n",
    "from pair_filter import OLS_filter\n",
    "import matplotlib.pyplot as plt\n",
    "\n",
    "\n",
    "\n",
    "# loading data\n",
    "start_idx = 0\n",
    "\n",
    "\n",
    "dl = Data_loader(num_month_train=8, num_month_test=2)\n",
    "window_train, window_test = dl.get_window(start_idx=start_idx)\n",
    "\n",
    "\n",
    "\n",
    "# NPD selection\n",
    "NPD = NPD_filter(window_train)\n",
    "pairs, distance = NPD.select_pairs(percentile=5, verbose=True)\n",
    "\n",
    "# OLS selection\n",
    "OLS = OLS_filter(window_train)\n",
    "pairs, params = OLS.select_pairs(pairs, verbose=True, confidence_level=0.01)\n"
   ]
  },
  {
   "cell_type": "markdown",
   "id": "a31dd7b6",
   "metadata": {},
   "source": [
    "# select top-k pairs accorindg to train sharpe ratio"
   ]
  },
  {
   "cell_type": "code",
   "execution_count": 2,
   "id": "9b229ab0",
   "metadata": {},
   "outputs": [],
   "source": [
    "from backtest import *\n",
    "\n",
    "top_k = 50\n",
    "\n",
    "bt = PairTradingBacktester_TrainTest(pairs[:300], params[:300], window_train, window_test) # for testing purpose\n",
    "# bt = PairTradingBacktester_TrainTest(pairs, params, window_train, window_test) # complete\n",
    "summary = bt.run(top_k=top_k)\n",
    "\n",
    "\n",
    "spreads_train  = bt.train_spreads_df\n",
    "spreads_test  = bt.test_spreads_df\n",
    "returns_test   = bt.test_returns_df\n",
    "returns_train   = bt.train_returns_df\n",
    "comp_weights=bt.comp_weights"
   ]
  },
  {
   "cell_type": "markdown",
   "id": "fa2b9eb7",
   "metadata": {},
   "source": [
    "# EW optimizer"
   ]
  },
  {
   "cell_type": "code",
   "execution_count": 5,
   "id": "be09391b",
   "metadata": {},
   "outputs": [
    {
     "data": {
      "text/plain": [
       "-6.5510991855781056"
      ]
     },
     "execution_count": 5,
     "metadata": {},
     "output_type": "execute_result"
    }
   ],
   "source": [
    "from optimizers import EW_optimizer\n",
    "\n",
    "optimal_weights=EW_optimizer(returns_train) # train on training data\n",
    "\n",
    "port_ret=(optimal_weights*returns_test).sum(axis=1) # test on testing data\n",
    "\n",
    "\n",
    "port_ret.mean()*np.sqrt(252)/port_ret.std() # calculate out-of-sample sharpe ratio"
   ]
  },
  {
   "cell_type": "markdown",
   "id": "be392934",
   "metadata": {},
   "source": [
    "# Sharpe Optimizer"
   ]
  },
  {
   "cell_type": "code",
   "execution_count": 6,
   "id": "46707aac",
   "metadata": {},
   "outputs": [
    {
     "ename": "ArpackNoConvergence",
     "evalue": "ARPACK error -1: ARPACK error -1: No convergence (501 iterations, 0/1 eigenvectors converged)\n\n\n        CVXPY note: This failure was encountered while trying to certify\n        that a matrix is positive semi-definite (see [1] for a definition).\n        In rare cases, this method fails for numerical reasons even when the matrix is\n        positive semi-definite. If you know that you're in that situation, you can\n        replace the matrix A by cvxpy.psd_wrap(A).\n\n        [1] https://en.wikipedia.org/wiki/Definite_matrix\n        ",
     "output_type": "error",
     "traceback": [
      "\u001b[0;31m---------------------------------------------------------------------------\u001b[0m",
      "\u001b[0;31mArpackNoConvergence\u001b[0m                       Traceback (most recent call last)",
      "File \u001b[0;32m~/anaconda3/lib/python3.11/site-packages/cvxpy/utilities/linalg.py:113\u001b[0m, in \u001b[0;36mis_psd_within_tol\u001b[0;34m(A, tol)\u001b[0m\n\u001b[1;32m    112\u001b[0m \u001b[38;5;28;01mtry\u001b[39;00m:\n\u001b[0;32m--> 113\u001b[0m     ev \u001b[38;5;241m=\u001b[39m SA_eigsh(\u001b[38;5;241m-\u001b[39mtol)  \u001b[38;5;66;03m# might return np.NaN, or raise exception\u001b[39;00m\n\u001b[1;32m    114\u001b[0m \u001b[38;5;28;01mexcept\u001b[39;00m sparla\u001b[38;5;241m.\u001b[39mArpackNoConvergence \u001b[38;5;28;01mas\u001b[39;00m e:\n\u001b[1;32m    115\u001b[0m     \u001b[38;5;66;03m# This is a numerical issue. We can't certify that A is PSD.\u001b[39;00m\n",
      "File \u001b[0;32m~/anaconda3/lib/python3.11/site-packages/cvxpy/utilities/linalg.py:97\u001b[0m, in \u001b[0;36mis_psd_within_tol.<locals>.SA_eigsh\u001b[0;34m(sigma)\u001b[0m\n\u001b[1;32m     95\u001b[0m v0 \u001b[38;5;241m=\u001b[39m g\u001b[38;5;241m.\u001b[39mnormal(loc\u001b[38;5;241m=\u001b[39m\u001b[38;5;241m0.0\u001b[39m, scale\u001b[38;5;241m=\u001b[39m\u001b[38;5;241m1.0\u001b[39m, size\u001b[38;5;241m=\u001b[39mn)\n\u001b[0;32m---> 97\u001b[0m \u001b[38;5;28;01mreturn\u001b[39;00m sparla\u001b[38;5;241m.\u001b[39meigsh(A, k\u001b[38;5;241m=\u001b[39m\u001b[38;5;241m1\u001b[39m, sigma\u001b[38;5;241m=\u001b[39msigma, which\u001b[38;5;241m=\u001b[39m\u001b[38;5;124m'\u001b[39m\u001b[38;5;124mSA\u001b[39m\u001b[38;5;124m'\u001b[39m, v0\u001b[38;5;241m=\u001b[39mv0,\n\u001b[1;32m     98\u001b[0m                     return_eigenvectors\u001b[38;5;241m=\u001b[39m\u001b[38;5;28;01mFalse\u001b[39;00m)\n",
      "File \u001b[0;32m~/anaconda3/lib/python3.11/site-packages/scipy/sparse/linalg/_eigen/arpack/arpack.py:1696\u001b[0m, in \u001b[0;36meigsh\u001b[0;34m(A, k, M, sigma, which, v0, ncv, maxiter, tol, return_eigenvectors, Minv, OPinv, mode)\u001b[0m\n\u001b[1;32m   1695\u001b[0m \u001b[38;5;28;01mwhile\u001b[39;00m \u001b[38;5;129;01mnot\u001b[39;00m params\u001b[38;5;241m.\u001b[39mconverged:\n\u001b[0;32m-> 1696\u001b[0m     params\u001b[38;5;241m.\u001b[39miterate()\n\u001b[1;32m   1698\u001b[0m \u001b[38;5;28;01mreturn\u001b[39;00m params\u001b[38;5;241m.\u001b[39mextract(return_eigenvectors)\n",
      "File \u001b[0;32m~/anaconda3/lib/python3.11/site-packages/scipy/sparse/linalg/_eigen/arpack/arpack.py:576\u001b[0m, in \u001b[0;36m_SymmetricArpackParams.iterate\u001b[0;34m(self)\u001b[0m\n\u001b[1;32m    575\u001b[0m \u001b[38;5;28;01melif\u001b[39;00m \u001b[38;5;28mself\u001b[39m\u001b[38;5;241m.\u001b[39minfo \u001b[38;5;241m==\u001b[39m \u001b[38;5;241m1\u001b[39m:\n\u001b[0;32m--> 576\u001b[0m     \u001b[38;5;28mself\u001b[39m\u001b[38;5;241m.\u001b[39m_raise_no_convergence()\n\u001b[1;32m    577\u001b[0m \u001b[38;5;28;01melse\u001b[39;00m:\n",
      "File \u001b[0;32m~/anaconda3/lib/python3.11/site-packages/scipy/sparse/linalg/_eigen/arpack/arpack.py:383\u001b[0m, in \u001b[0;36m_ArpackParams._raise_no_convergence\u001b[0;34m(self)\u001b[0m\n\u001b[1;32m    382\u001b[0m     k_ok \u001b[38;5;241m=\u001b[39m \u001b[38;5;241m0\u001b[39m\n\u001b[0;32m--> 383\u001b[0m \u001b[38;5;28;01mraise\u001b[39;00m ArpackNoConvergence(msg \u001b[38;5;241m%\u001b[39m (num_iter, k_ok, \u001b[38;5;28mself\u001b[39m\u001b[38;5;241m.\u001b[39mk), ev, vec)\n",
      "\u001b[0;31mArpackNoConvergence\u001b[0m: ARPACK error -1: No convergence (501 iterations, 0/1 eigenvectors converged)",
      "\nDuring handling of the above exception, another exception occurred:\n",
      "\u001b[0;31mArpackNoConvergence\u001b[0m                       Traceback (most recent call last)",
      "Cell \u001b[0;32mIn[6], line 3\u001b[0m\n\u001b[1;32m      1\u001b[0m \u001b[38;5;28;01mfrom\u001b[39;00m \u001b[38;5;21;01moptimizers\u001b[39;00m \u001b[38;5;28;01mimport\u001b[39;00m Sharpe_optimizer\n\u001b[0;32m----> 3\u001b[0m optimal_weights\u001b[38;5;241m=\u001b[39mSharpe_optimizer(returns_train)  \u001b[38;5;66;03m# train on training data\u001b[39;00m\n\u001b[1;32m      4\u001b[0m port_ret\u001b[38;5;241m=\u001b[39m(optimal_weights\u001b[38;5;241m*\u001b[39mreturns_test)\u001b[38;5;241m.\u001b[39msum(axis\u001b[38;5;241m=\u001b[39m\u001b[38;5;241m1\u001b[39m) \u001b[38;5;66;03m# test on testing data\u001b[39;00m\n\u001b[1;32m      5\u001b[0m port_ret\u001b[38;5;241m.\u001b[39mmean()\u001b[38;5;241m*\u001b[39mnp\u001b[38;5;241m.\u001b[39msqrt(\u001b[38;5;241m252\u001b[39m)\u001b[38;5;241m/\u001b[39mport_ret\u001b[38;5;241m.\u001b[39mstd()\n",
      "File \u001b[0;32m~/Desktop/ORIE5640-Statistics for FE/Project2/optimizers.py:65\u001b[0m, in \u001b[0;36mSharpe_optimizer\u001b[0;34m(rets_data, rf, solver, **solver_opts)\u001b[0m\n\u001b[1;32m     62\u001b[0m constraints \u001b[38;5;241m=\u001b[39m [mu_ex \u001b[38;5;241m@\u001b[39m y \u001b[38;5;241m==\u001b[39m \u001b[38;5;241m1\u001b[39m]                \u001b[38;5;66;03m# μ̂ᵀy = 1\u001b[39;00m\n\u001b[1;32m     64\u001b[0m prob \u001b[38;5;241m=\u001b[39m cp\u001b[38;5;241m.\u001b[39mProblem(objective, constraints)\n\u001b[0;32m---> 65\u001b[0m prob\u001b[38;5;241m.\u001b[39msolve(solver\u001b[38;5;241m=\u001b[39msolver, \u001b[38;5;241m*\u001b[39m\u001b[38;5;241m*\u001b[39msolver_opts)\n\u001b[1;32m     67\u001b[0m \u001b[38;5;28;01mif\u001b[39;00m prob\u001b[38;5;241m.\u001b[39mstatus \u001b[38;5;129;01mnot\u001b[39;00m \u001b[38;5;129;01min\u001b[39;00m {\u001b[38;5;124m\"\u001b[39m\u001b[38;5;124moptimal\u001b[39m\u001b[38;5;124m\"\u001b[39m, \u001b[38;5;124m\"\u001b[39m\u001b[38;5;124moptimal_inaccurate\u001b[39m\u001b[38;5;124m\"\u001b[39m}:\n\u001b[1;32m     68\u001b[0m     \u001b[38;5;28;01mraise\u001b[39;00m \u001b[38;5;167;01mRuntimeError\u001b[39;00m(\u001b[38;5;124mf\u001b[39m\u001b[38;5;124m\"\u001b[39m\u001b[38;5;124m优化失败，状态: \u001b[39m\u001b[38;5;132;01m{\u001b[39;00mprob\u001b[38;5;241m.\u001b[39mstatus\u001b[38;5;132;01m}\u001b[39;00m\u001b[38;5;124m\"\u001b[39m)\n",
      "File \u001b[0;32m~/anaconda3/lib/python3.11/site-packages/cvxpy/problems/problem.py:503\u001b[0m, in \u001b[0;36mProblem.solve\u001b[0;34m(self, *args, **kwargs)\u001b[0m\n\u001b[1;32m    501\u001b[0m \u001b[38;5;28;01melse\u001b[39;00m:\n\u001b[1;32m    502\u001b[0m     solve_func \u001b[38;5;241m=\u001b[39m Problem\u001b[38;5;241m.\u001b[39m_solve\n\u001b[0;32m--> 503\u001b[0m \u001b[38;5;28;01mreturn\u001b[39;00m solve_func(\u001b[38;5;28mself\u001b[39m, \u001b[38;5;241m*\u001b[39margs, \u001b[38;5;241m*\u001b[39m\u001b[38;5;241m*\u001b[39mkwargs)\n",
      "File \u001b[0;32m~/anaconda3/lib/python3.11/site-packages/cvxpy/problems/problem.py:1073\u001b[0m, in \u001b[0;36mProblem._solve\u001b[0;34m(self, solver, warm_start, verbose, gp, qcp, requires_grad, enforce_dpp, ignore_dpp, canon_backend, **kwargs)\u001b[0m\n\u001b[1;32m   1070\u001b[0m         \u001b[38;5;28mself\u001b[39m\u001b[38;5;241m.\u001b[39munpack(chain\u001b[38;5;241m.\u001b[39mretrieve(soln))\n\u001b[1;32m   1071\u001b[0m         \u001b[38;5;28;01mreturn\u001b[39;00m \u001b[38;5;28mself\u001b[39m\u001b[38;5;241m.\u001b[39mvalue\n\u001b[0;32m-> 1073\u001b[0m data, solving_chain, inverse_data \u001b[38;5;241m=\u001b[39m \u001b[38;5;28mself\u001b[39m\u001b[38;5;241m.\u001b[39mget_problem_data(\n\u001b[1;32m   1074\u001b[0m     solver, gp, enforce_dpp, ignore_dpp, verbose, canon_backend, kwargs\n\u001b[1;32m   1075\u001b[0m )\n\u001b[1;32m   1077\u001b[0m \u001b[38;5;28;01mif\u001b[39;00m verbose:\n\u001b[1;32m   1078\u001b[0m     \u001b[38;5;28mprint\u001b[39m(_NUM_SOLVER_STR)\n",
      "File \u001b[0;32m~/anaconda3/lib/python3.11/site-packages/cvxpy/problems/problem.py:646\u001b[0m, in \u001b[0;36mProblem.get_problem_data\u001b[0;34m(self, solver, gp, enforce_dpp, ignore_dpp, verbose, canon_backend, solver_opts)\u001b[0m\n\u001b[1;32m    644\u001b[0m \u001b[38;5;28;01mif\u001b[39;00m key \u001b[38;5;241m!=\u001b[39m \u001b[38;5;28mself\u001b[39m\u001b[38;5;241m.\u001b[39m_cache\u001b[38;5;241m.\u001b[39mkey:\n\u001b[1;32m    645\u001b[0m     \u001b[38;5;28mself\u001b[39m\u001b[38;5;241m.\u001b[39m_cache\u001b[38;5;241m.\u001b[39minvalidate()\n\u001b[0;32m--> 646\u001b[0m     solving_chain \u001b[38;5;241m=\u001b[39m \u001b[38;5;28mself\u001b[39m\u001b[38;5;241m.\u001b[39m_construct_chain(\n\u001b[1;32m    647\u001b[0m         solver\u001b[38;5;241m=\u001b[39msolver, gp\u001b[38;5;241m=\u001b[39mgp,\n\u001b[1;32m    648\u001b[0m         enforce_dpp\u001b[38;5;241m=\u001b[39menforce_dpp,\n\u001b[1;32m    649\u001b[0m         ignore_dpp\u001b[38;5;241m=\u001b[39mignore_dpp,\n\u001b[1;32m    650\u001b[0m         canon_backend\u001b[38;5;241m=\u001b[39mcanon_backend,\n\u001b[1;32m    651\u001b[0m         solver_opts\u001b[38;5;241m=\u001b[39msolver_opts)\n\u001b[1;32m    652\u001b[0m     \u001b[38;5;28mself\u001b[39m\u001b[38;5;241m.\u001b[39m_cache\u001b[38;5;241m.\u001b[39mkey \u001b[38;5;241m=\u001b[39m key\n\u001b[1;32m    653\u001b[0m     \u001b[38;5;28mself\u001b[39m\u001b[38;5;241m.\u001b[39m_cache\u001b[38;5;241m.\u001b[39msolving_chain \u001b[38;5;241m=\u001b[39m solving_chain\n",
      "File \u001b[0;32m~/anaconda3/lib/python3.11/site-packages/cvxpy/problems/problem.py:898\u001b[0m, in \u001b[0;36mProblem._construct_chain\u001b[0;34m(self, solver, gp, enforce_dpp, ignore_dpp, canon_backend, solver_opts)\u001b[0m\n\u001b[1;32m    896\u001b[0m candidate_solvers \u001b[38;5;241m=\u001b[39m \u001b[38;5;28mself\u001b[39m\u001b[38;5;241m.\u001b[39m_find_candidate_solvers(solver\u001b[38;5;241m=\u001b[39msolver, gp\u001b[38;5;241m=\u001b[39mgp)\n\u001b[1;32m    897\u001b[0m \u001b[38;5;28mself\u001b[39m\u001b[38;5;241m.\u001b[39m_sort_candidate_solvers(candidate_solvers)\n\u001b[0;32m--> 898\u001b[0m \u001b[38;5;28;01mreturn\u001b[39;00m construct_solving_chain(\u001b[38;5;28mself\u001b[39m, candidate_solvers, gp\u001b[38;5;241m=\u001b[39mgp,\n\u001b[1;32m    899\u001b[0m                                enforce_dpp\u001b[38;5;241m=\u001b[39menforce_dpp,\n\u001b[1;32m    900\u001b[0m                                ignore_dpp\u001b[38;5;241m=\u001b[39mignore_dpp,\n\u001b[1;32m    901\u001b[0m                                canon_backend\u001b[38;5;241m=\u001b[39mcanon_backend,\n\u001b[1;32m    902\u001b[0m                                solver_opts\u001b[38;5;241m=\u001b[39msolver_opts,\n\u001b[1;32m    903\u001b[0m                                specified_solver\u001b[38;5;241m=\u001b[39msolver)\n",
      "File \u001b[0;32m~/anaconda3/lib/python3.11/site-packages/cvxpy/reductions/solvers/solving_chain.py:228\u001b[0m, in \u001b[0;36mconstruct_solving_chain\u001b[0;34m(problem, candidates, gp, enforce_dpp, ignore_dpp, canon_backend, solver_opts, specified_solver)\u001b[0m\n\u001b[1;32m    226\u001b[0m \u001b[38;5;28;01mif\u001b[39;00m \u001b[38;5;28mlen\u001b[39m(problem\u001b[38;5;241m.\u001b[39mvariables()) \u001b[38;5;241m==\u001b[39m \u001b[38;5;241m0\u001b[39m:\n\u001b[1;32m    227\u001b[0m     \u001b[38;5;28;01mreturn\u001b[39;00m SolvingChain(reductions\u001b[38;5;241m=\u001b[39m[ConstantSolver()])\n\u001b[0;32m--> 228\u001b[0m reductions \u001b[38;5;241m=\u001b[39m _reductions_for_problem_class(problem, candidates, gp, solver_opts)\n\u001b[1;32m    230\u001b[0m \u001b[38;5;66;03m# Process DPP status of the problem.\u001b[39;00m\n\u001b[1;32m    231\u001b[0m dpp_context \u001b[38;5;241m=\u001b[39m \u001b[38;5;124m'\u001b[39m\u001b[38;5;124mdcp\u001b[39m\u001b[38;5;124m'\u001b[39m \u001b[38;5;28;01mif\u001b[39;00m \u001b[38;5;129;01mnot\u001b[39;00m gp \u001b[38;5;28;01melse\u001b[39;00m \u001b[38;5;124m'\u001b[39m\u001b[38;5;124mdgp\u001b[39m\u001b[38;5;124m'\u001b[39m\n",
      "File \u001b[0;32m~/anaconda3/lib/python3.11/site-packages/cvxpy/reductions/solvers/solving_chain.py:135\u001b[0m, in \u001b[0;36m_reductions_for_problem_class\u001b[0;34m(problem, candidates, gp, solver_opts)\u001b[0m\n\u001b[1;32m    132\u001b[0m \u001b[38;5;28;01mif\u001b[39;00m gp:\n\u001b[1;32m    133\u001b[0m     reductions \u001b[38;5;241m+\u001b[39m\u001b[38;5;241m=\u001b[39m [Dgp2Dcp()]\n\u001b[0;32m--> 135\u001b[0m \u001b[38;5;28;01mif\u001b[39;00m \u001b[38;5;129;01mnot\u001b[39;00m gp \u001b[38;5;129;01mand\u001b[39;00m \u001b[38;5;129;01mnot\u001b[39;00m problem\u001b[38;5;241m.\u001b[39mis_dcp():\n\u001b[1;32m    136\u001b[0m     append \u001b[38;5;241m=\u001b[39m build_non_disciplined_error_msg(problem, \u001b[38;5;124m'\u001b[39m\u001b[38;5;124mDCP\u001b[39m\u001b[38;5;124m'\u001b[39m)\n\u001b[1;32m    137\u001b[0m     \u001b[38;5;28;01mif\u001b[39;00m problem\u001b[38;5;241m.\u001b[39mis_dgp():\n",
      "File \u001b[0;32m~/anaconda3/lib/python3.11/site-packages/cvxpy/utilities/performance_utils.py:73\u001b[0m, in \u001b[0;36mcompute_once.<locals>._compute_once\u001b[0;34m(self, *args, **kwargs)\u001b[0m\n\u001b[1;32m     71\u001b[0m \u001b[38;5;28;01mif\u001b[39;00m key \u001b[38;5;129;01min\u001b[39;00m cache:\n\u001b[1;32m     72\u001b[0m     \u001b[38;5;28;01mreturn\u001b[39;00m cache[key]\n\u001b[0;32m---> 73\u001b[0m result \u001b[38;5;241m=\u001b[39m func(\u001b[38;5;28mself\u001b[39m, \u001b[38;5;241m*\u001b[39margs, \u001b[38;5;241m*\u001b[39m\u001b[38;5;241m*\u001b[39mkwargs)\n\u001b[1;32m     74\u001b[0m cache[key] \u001b[38;5;241m=\u001b[39m result\n\u001b[1;32m     75\u001b[0m \u001b[38;5;28;01mreturn\u001b[39;00m result\n",
      "File \u001b[0;32m~/anaconda3/lib/python3.11/site-packages/cvxpy/problems/problem.py:257\u001b[0m, in \u001b[0;36mProblem.is_dcp\u001b[0;34m(self, dpp)\u001b[0m\n\u001b[1;32m    237\u001b[0m \u001b[38;5;129m@perf\u001b[39m\u001b[38;5;241m.\u001b[39mcompute_once\n\u001b[1;32m    238\u001b[0m \u001b[38;5;28;01mdef\u001b[39;00m \u001b[38;5;21mis_dcp\u001b[39m(\u001b[38;5;28mself\u001b[39m, dpp: \u001b[38;5;28mbool\u001b[39m \u001b[38;5;241m=\u001b[39m \u001b[38;5;28;01mFalse\u001b[39;00m) \u001b[38;5;241m-\u001b[39m\u001b[38;5;241m>\u001b[39m \u001b[38;5;28mbool\u001b[39m:\n\u001b[1;32m    239\u001b[0m \u001b[38;5;250m    \u001b[39m\u001b[38;5;124;03m\"\"\"Does the problem satisfy DCP rules?\u001b[39;00m\n\u001b[1;32m    240\u001b[0m \n\u001b[1;32m    241\u001b[0m \u001b[38;5;124;03m    Arguments\u001b[39;00m\n\u001b[0;32m   (...)\u001b[0m\n\u001b[1;32m    255\u001b[0m \u001b[38;5;124;03m        True if the Expression is DCP, False otherwise.\u001b[39;00m\n\u001b[1;32m    256\u001b[0m \u001b[38;5;124;03m    \"\"\"\u001b[39;00m\n\u001b[0;32m--> 257\u001b[0m     \u001b[38;5;28;01mreturn\u001b[39;00m \u001b[38;5;28mall\u001b[39m(\n\u001b[1;32m    258\u001b[0m       expr\u001b[38;5;241m.\u001b[39mis_dcp(dpp) \u001b[38;5;28;01mfor\u001b[39;00m expr \u001b[38;5;129;01min\u001b[39;00m \u001b[38;5;28mself\u001b[39m\u001b[38;5;241m.\u001b[39mconstraints \u001b[38;5;241m+\u001b[39m [\u001b[38;5;28mself\u001b[39m\u001b[38;5;241m.\u001b[39mobjective])\n",
      "File \u001b[0;32m~/anaconda3/lib/python3.11/site-packages/cvxpy/problems/problem.py:258\u001b[0m, in \u001b[0;36m<genexpr>\u001b[0;34m(.0)\u001b[0m\n\u001b[1;32m    237\u001b[0m \u001b[38;5;129m@perf\u001b[39m\u001b[38;5;241m.\u001b[39mcompute_once\n\u001b[1;32m    238\u001b[0m \u001b[38;5;28;01mdef\u001b[39;00m \u001b[38;5;21mis_dcp\u001b[39m(\u001b[38;5;28mself\u001b[39m, dpp: \u001b[38;5;28mbool\u001b[39m \u001b[38;5;241m=\u001b[39m \u001b[38;5;28;01mFalse\u001b[39;00m) \u001b[38;5;241m-\u001b[39m\u001b[38;5;241m>\u001b[39m \u001b[38;5;28mbool\u001b[39m:\n\u001b[1;32m    239\u001b[0m \u001b[38;5;250m    \u001b[39m\u001b[38;5;124;03m\"\"\"Does the problem satisfy DCP rules?\u001b[39;00m\n\u001b[1;32m    240\u001b[0m \n\u001b[1;32m    241\u001b[0m \u001b[38;5;124;03m    Arguments\u001b[39;00m\n\u001b[0;32m   (...)\u001b[0m\n\u001b[1;32m    255\u001b[0m \u001b[38;5;124;03m        True if the Expression is DCP, False otherwise.\u001b[39;00m\n\u001b[1;32m    256\u001b[0m \u001b[38;5;124;03m    \"\"\"\u001b[39;00m\n\u001b[1;32m    257\u001b[0m     \u001b[38;5;28;01mreturn\u001b[39;00m \u001b[38;5;28mall\u001b[39m(\n\u001b[0;32m--> 258\u001b[0m       expr\u001b[38;5;241m.\u001b[39mis_dcp(dpp) \u001b[38;5;28;01mfor\u001b[39;00m expr \u001b[38;5;129;01min\u001b[39;00m \u001b[38;5;28mself\u001b[39m\u001b[38;5;241m.\u001b[39mconstraints \u001b[38;5;241m+\u001b[39m [\u001b[38;5;28mself\u001b[39m\u001b[38;5;241m.\u001b[39mobjective])\n",
      "File \u001b[0;32m~/anaconda3/lib/python3.11/site-packages/cvxpy/problems/objective.py:153\u001b[0m, in \u001b[0;36mMinimize.is_dcp\u001b[0;34m(self, dpp)\u001b[0m\n\u001b[1;32m    151\u001b[0m     \u001b[38;5;28;01mwith\u001b[39;00m scopes\u001b[38;5;241m.\u001b[39mdpp_scope():\n\u001b[1;32m    152\u001b[0m         \u001b[38;5;28;01mreturn\u001b[39;00m \u001b[38;5;28mself\u001b[39m\u001b[38;5;241m.\u001b[39margs[\u001b[38;5;241m0\u001b[39m]\u001b[38;5;241m.\u001b[39mis_convex()\n\u001b[0;32m--> 153\u001b[0m \u001b[38;5;28;01mreturn\u001b[39;00m \u001b[38;5;28mself\u001b[39m\u001b[38;5;241m.\u001b[39margs[\u001b[38;5;241m0\u001b[39m]\u001b[38;5;241m.\u001b[39mis_convex()\n",
      "File \u001b[0;32m~/anaconda3/lib/python3.11/site-packages/cvxpy/utilities/performance_utils.py:73\u001b[0m, in \u001b[0;36mcompute_once.<locals>._compute_once\u001b[0;34m(self, *args, **kwargs)\u001b[0m\n\u001b[1;32m     71\u001b[0m \u001b[38;5;28;01mif\u001b[39;00m key \u001b[38;5;129;01min\u001b[39;00m cache:\n\u001b[1;32m     72\u001b[0m     \u001b[38;5;28;01mreturn\u001b[39;00m cache[key]\n\u001b[0;32m---> 73\u001b[0m result \u001b[38;5;241m=\u001b[39m func(\u001b[38;5;28mself\u001b[39m, \u001b[38;5;241m*\u001b[39margs, \u001b[38;5;241m*\u001b[39m\u001b[38;5;241m*\u001b[39mkwargs)\n\u001b[1;32m     74\u001b[0m cache[key] \u001b[38;5;241m=\u001b[39m result\n\u001b[1;32m     75\u001b[0m \u001b[38;5;28;01mreturn\u001b[39;00m result\n",
      "File \u001b[0;32m~/anaconda3/lib/python3.11/site-packages/cvxpy/atoms/atom.py:176\u001b[0m, in \u001b[0;36mAtom.is_convex\u001b[0;34m(self)\u001b[0m\n\u001b[1;32m    174\u001b[0m \u001b[38;5;28;01mif\u001b[39;00m \u001b[38;5;28mself\u001b[39m\u001b[38;5;241m.\u001b[39mis_constant():\n\u001b[1;32m    175\u001b[0m     \u001b[38;5;28;01mreturn\u001b[39;00m \u001b[38;5;28;01mTrue\u001b[39;00m\n\u001b[0;32m--> 176\u001b[0m \u001b[38;5;28;01melif\u001b[39;00m \u001b[38;5;28mself\u001b[39m\u001b[38;5;241m.\u001b[39mis_atom_convex():\n\u001b[1;32m    177\u001b[0m     \u001b[38;5;28;01mfor\u001b[39;00m idx, arg \u001b[38;5;129;01min\u001b[39;00m \u001b[38;5;28menumerate\u001b[39m(\u001b[38;5;28mself\u001b[39m\u001b[38;5;241m.\u001b[39margs):\n\u001b[1;32m    178\u001b[0m         \u001b[38;5;28;01mif\u001b[39;00m \u001b[38;5;129;01mnot\u001b[39;00m (arg\u001b[38;5;241m.\u001b[39mis_affine() \u001b[38;5;129;01mor\u001b[39;00m\n\u001b[1;32m    179\u001b[0m                 (arg\u001b[38;5;241m.\u001b[39mis_convex() \u001b[38;5;129;01mand\u001b[39;00m \u001b[38;5;28mself\u001b[39m\u001b[38;5;241m.\u001b[39mis_incr(idx)) \u001b[38;5;129;01mor\u001b[39;00m\n\u001b[1;32m    180\u001b[0m                 (arg\u001b[38;5;241m.\u001b[39mis_concave() \u001b[38;5;129;01mand\u001b[39;00m \u001b[38;5;28mself\u001b[39m\u001b[38;5;241m.\u001b[39mis_decr(idx))):\n",
      "File \u001b[0;32m~/anaconda3/lib/python3.11/site-packages/cvxpy/atoms/quad_form.py:69\u001b[0m, in \u001b[0;36mQuadForm.is_atom_convex\u001b[0;34m(self)\u001b[0m\n\u001b[1;32m     66\u001b[0m \u001b[38;5;250m\u001b[39m\u001b[38;5;124;03m\"\"\"Is the atom convex?\u001b[39;00m\n\u001b[1;32m     67\u001b[0m \u001b[38;5;124;03m\"\"\"\u001b[39;00m\n\u001b[1;32m     68\u001b[0m P \u001b[38;5;241m=\u001b[39m \u001b[38;5;28mself\u001b[39m\u001b[38;5;241m.\u001b[39margs[\u001b[38;5;241m1\u001b[39m]\n\u001b[0;32m---> 69\u001b[0m \u001b[38;5;28;01mreturn\u001b[39;00m P\u001b[38;5;241m.\u001b[39mis_constant() \u001b[38;5;129;01mand\u001b[39;00m P\u001b[38;5;241m.\u001b[39mis_psd()\n",
      "File \u001b[0;32m~/anaconda3/lib/python3.11/site-packages/cvxpy/utilities/performance_utils.py:73\u001b[0m, in \u001b[0;36mcompute_once.<locals>._compute_once\u001b[0;34m(self, *args, **kwargs)\u001b[0m\n\u001b[1;32m     71\u001b[0m \u001b[38;5;28;01mif\u001b[39;00m key \u001b[38;5;129;01min\u001b[39;00m cache:\n\u001b[1;32m     72\u001b[0m     \u001b[38;5;28;01mreturn\u001b[39;00m cache[key]\n\u001b[0;32m---> 73\u001b[0m result \u001b[38;5;241m=\u001b[39m func(\u001b[38;5;28mself\u001b[39m, \u001b[38;5;241m*\u001b[39margs, \u001b[38;5;241m*\u001b[39m\u001b[38;5;241m*\u001b[39mkwargs)\n\u001b[1;32m     74\u001b[0m cache[key] \u001b[38;5;241m=\u001b[39m result\n\u001b[1;32m     75\u001b[0m \u001b[38;5;28;01mreturn\u001b[39;00m result\n",
      "File \u001b[0;32m~/anaconda3/lib/python3.11/site-packages/cvxpy/expressions/constants/constant.py:238\u001b[0m, in \u001b[0;36mConstant.is_psd\u001b[0;34m(self)\u001b[0m\n\u001b[1;32m    236\u001b[0m \u001b[38;5;66;03m# Compute sign of bottom eigenvalue if absent.\u001b[39;00m\n\u001b[1;32m    237\u001b[0m \u001b[38;5;28;01mif\u001b[39;00m \u001b[38;5;28mself\u001b[39m\u001b[38;5;241m.\u001b[39m_psd_test \u001b[38;5;129;01mis\u001b[39;00m \u001b[38;5;28;01mNone\u001b[39;00m:\n\u001b[0;32m--> 238\u001b[0m     \u001b[38;5;28mself\u001b[39m\u001b[38;5;241m.\u001b[39m_psd_test \u001b[38;5;241m=\u001b[39m eig_util\u001b[38;5;241m.\u001b[39mis_psd_within_tol(\u001b[38;5;28mself\u001b[39m\u001b[38;5;241m.\u001b[39mvalue, s\u001b[38;5;241m.\u001b[39mEIGVAL_TOL)\n\u001b[1;32m    240\u001b[0m \u001b[38;5;28;01mreturn\u001b[39;00m \u001b[38;5;28mself\u001b[39m\u001b[38;5;241m.\u001b[39m_psd_test\n",
      "File \u001b[0;32m~/anaconda3/lib/python3.11/site-packages/cvxpy/utilities/linalg.py:129\u001b[0m, in \u001b[0;36mis_psd_within_tol\u001b[0;34m(A, tol)\u001b[0m\n\u001b[1;32m    117\u001b[0m     message \u001b[38;5;241m=\u001b[39m \u001b[38;5;124m\"\"\"\u001b[39m\n\u001b[1;32m    118\u001b[0m \u001b[38;5;124m    CVXPY note: This failure was encountered while trying to certify\u001b[39m\n\u001b[1;32m    119\u001b[0m \u001b[38;5;124m    that a matrix is positive semi-definite (see [1] for a definition).\u001b[39m\n\u001b[0;32m   (...)\u001b[0m\n\u001b[1;32m    124\u001b[0m \u001b[38;5;124m    [1] https://en.wikipedia.org/wiki/Definite_matrix\u001b[39m\n\u001b[1;32m    125\u001b[0m \u001b[38;5;124m    \u001b[39m\u001b[38;5;124m\"\"\"\u001b[39m\n\u001b[1;32m    127\u001b[0m     error_with_note \u001b[38;5;241m=\u001b[39m \u001b[38;5;124mf\u001b[39m\u001b[38;5;124m\"\u001b[39m\u001b[38;5;132;01m{\u001b[39;00m\u001b[38;5;28mstr\u001b[39m(e)\u001b[38;5;132;01m}\u001b[39;00m\u001b[38;5;130;01m\\n\u001b[39;00m\u001b[38;5;130;01m\\n\u001b[39;00m\u001b[38;5;132;01m{\u001b[39;00mmessage\u001b[38;5;132;01m}\u001b[39;00m\u001b[38;5;124m\"\u001b[39m\n\u001b[0;32m--> 129\u001b[0m     \u001b[38;5;28;01mraise\u001b[39;00m sparla\u001b[38;5;241m.\u001b[39mArpackNoConvergence(error_with_note, e\u001b[38;5;241m.\u001b[39meigenvalues, e\u001b[38;5;241m.\u001b[39meigenvectors)\n\u001b[1;32m    131\u001b[0m \u001b[38;5;28;01mif\u001b[39;00m np\u001b[38;5;241m.\u001b[39misnan(ev)\u001b[38;5;241m.\u001b[39many():\n\u001b[1;32m    132\u001b[0m     \u001b[38;5;66;03m# will be NaN if A has an eigenvalue which is exactly -tol\u001b[39;00m\n\u001b[1;32m    133\u001b[0m     \u001b[38;5;66;03m# (We might also hit this code block for other reasons.)\u001b[39;00m\n\u001b[1;32m    134\u001b[0m     temp \u001b[38;5;241m=\u001b[39m tol \u001b[38;5;241m-\u001b[39m np\u001b[38;5;241m.\u001b[39mfinfo(A\u001b[38;5;241m.\u001b[39mdtype)\u001b[38;5;241m.\u001b[39meps\n",
      "\u001b[0;31mArpackNoConvergence\u001b[0m: ARPACK error -1: ARPACK error -1: No convergence (501 iterations, 0/1 eigenvectors converged)\n\n\n        CVXPY note: This failure was encountered while trying to certify\n        that a matrix is positive semi-definite (see [1] for a definition).\n        In rare cases, this method fails for numerical reasons even when the matrix is\n        positive semi-definite. If you know that you're in that situation, you can\n        replace the matrix A by cvxpy.psd_wrap(A).\n\n        [1] https://en.wikipedia.org/wiki/Definite_matrix\n        "
     ]
    }
   ],
   "source": [
    "from optimizers import Sharpe_optimizer\n",
    "\n",
    "optimal_weights=Sharpe_optimizer(returns_train)  # train on training data\n",
    "port_ret=(optimal_weights*returns_test).sum(axis=1) # test on testing data\n",
    "port_ret.mean()*np.sqrt(252)/port_ret.std() # calculate out-of-sample sharpe ratio"
   ]
  },
  {
   "cell_type": "code",
   "execution_count": null,
   "id": "f8ce5ba0",
   "metadata": {},
   "outputs": [
    {
     "data": {
      "text/plain": [
       "date\n",
       "1990-07-02    0.000000\n",
       "1990-07-03    0.003723\n",
       "1990-07-05   -0.002052\n",
       "1990-07-06    0.003221\n",
       "1990-07-09    0.012017\n",
       "1990-07-10    0.003471\n",
       "1990-07-11    0.012385\n",
       "1990-07-12   -0.002068\n",
       "1990-07-13    0.018666\n",
       "1990-07-16   -0.000239\n",
       "1990-07-17    0.005135\n",
       "1990-07-18    0.001995\n",
       "1990-07-19    0.005914\n",
       "1990-07-20    0.006273\n",
       "1990-07-23    0.012112\n",
       "1990-07-24    0.002762\n",
       "1990-07-25    0.372964\n",
       "1990-07-26    0.004834\n",
       "1990-07-27   -0.001771\n",
       "1990-07-30    0.019225\n",
       "1990-07-31    0.017632\n",
       "dtype: float64"
      ]
     },
     "execution_count": 7,
     "metadata": {},
     "output_type": "execute_result"
    }
   ],
   "source": [
    "port_ret"
   ]
  },
  {
   "cell_type": "code",
   "execution_count": null,
   "id": "53412174",
   "metadata": {},
   "outputs": [],
   "source": []
  }
 ],
 "metadata": {
  "kernelspec": {
   "display_name": "base",
   "language": "python",
   "name": "python3"
  },
  "language_info": {
   "codemirror_mode": {
    "name": "ipython",
    "version": 3
   },
   "file_extension": ".py",
   "mimetype": "text/x-python",
   "name": "python",
   "nbconvert_exporter": "python",
   "pygments_lexer": "ipython3",
   "version": "3.11.5"
  }
 },
 "nbformat": 4,
 "nbformat_minor": 5
}
