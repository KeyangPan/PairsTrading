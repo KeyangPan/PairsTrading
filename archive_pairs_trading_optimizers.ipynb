{
 "cells": [
  {
   "cell_type": "markdown",
   "id": "22fad9ee",
   "metadata": {},
   "source": [
    "# data loading"
   ]
  },
  {
   "cell_type": "code",
   "execution_count": 1,
   "id": "be1e3d18",
   "metadata": {},
   "outputs": [],
   "source": [
    "from data_loader import Data_loader\n",
    "\n",
    "# 用前2/3的数据用于训练,后1/3数据用于测试\n",
    "# window_length = 1.5 years\n",
    "\n",
    "dl = Data_loader()\n",
    "start_idx = 0\n",
    "window_train, window_test = dl.get_window(start_idx=start_idx)"
   ]
  },
  {
   "cell_type": "markdown",
   "id": "b4416e92",
   "metadata": {},
   "source": [
    "# 在每个window内筛选paris\n",
    "\n"
   ]
  },
  {
   "cell_type": "markdown",
   "id": "f2b78b57",
   "metadata": {},
   "source": [
    "## 1.normalized price distance初筛"
   ]
  },
  {
   "cell_type": "code",
   "execution_count": 2,
   "id": "2b7692a2",
   "metadata": {},
   "outputs": [
    {
     "name": "stdout",
     "output_type": "stream",
     "text": [
      "Basic Statistics for distances:\n",
      "Mean: 5286219.084745647\n",
      "Median: 16.611412381093956\n",
      "Standard Deviation: 114968276.66669613\n",
      "\n",
      "Percentiles:\n",
      "0th percentile: 0.06935615485767097\n",
      "25th percentile: 6.543446734558261\n",
      "50th percentile: 16.611412381093956\n",
      "75th percentile: 41.862403733135274\n",
      "100th percentile: 2763430370.728946\n",
      "\n",
      "Minimum: 0.06935615485767097\n",
      "Maximum: 2763430370.728946\n"
     ]
    },
    {
     "data": {
      "image/png": "[encoded data removed]",
      "text/plain": [
       "<Figure size 640x480 with 1 Axes>"
      ]
     },
     "metadata": {},
     "output_type": "display_data"
    }
   ],
   "source": [
    "from pair_filter import NPD_filter\n",
    "\n",
    "NPD = NPD_filter(window_train)\n",
    "\n",
    "NPD.visualize_price_distance()\n"
   ]
  },
  {
   "cell_type": "code",
   "execution_count": 3,
   "id": "81102500",
   "metadata": {},
   "outputs": [
    {
     "name": "stdout",
     "output_type": "stream",
     "text": [
      "34018 pairs selected\n",
      "min distance 0.06935615485767097\n",
      "max distance 1.921438805060201\n"
     ]
    }
   ],
   "source": [
    "pairs, distance = NPD.select_pairs(percentile=5, verbose=True)"
   ]
  },
  {
   "cell_type": "markdown",
   "id": "1c189283",
   "metadata": {},
   "source": [
    "## 2.OLS regressin进一步筛选\n",
    "\n",
    "$y_{1, t} = \\gamma * y_{2, t} + \\mu + \\epsilon_{t}$\n",
    "\n",
    "测试epsilon是否staionary"
   ]
  },
  {
   "cell_type": "code",
   "execution_count": 4,
   "id": "371eb9a4",
   "metadata": {},
   "outputs": [
    {
     "name": "stdout",
     "output_type": "stream",
     "text": [
      "11323 out of 34018 pairs passed the test\n",
      "pass rate: 0.33\n"
     ]
    }
   ],
   "source": [
    "from pair_filter import OLS_filter\n",
    "\n",
    "OLS = OLS_filter(window_train)\n",
    "\n",
    "pairs, params = OLS.select_pairs(pairs, verbose=True)"
   ]
  },
  {
   "cell_type": "markdown",
   "id": "a5adadaf",
   "metadata": {},
   "source": [
    "## cache pairs, params"
   ]
  },
  {
   "cell_type": "code",
   "execution_count": null,
   "id": "9cbfcc53",
   "metadata": {},
   "outputs": [
    {
     "name": "stdout",
     "output_type": "stream",
     "text": [
      "Saved to cache/pairs_params.pkl ✅\n"
     ]
    }
   ],
   "source": [
    "# import pickle\n",
    "# import os\n",
    "\n",
    "# # 确保 cache 文件夹存在\n",
    "# os.makedirs('cache', exist_ok=True)\n",
    "\n",
    "# # 组合数据\n",
    "# data = {'pairs': pairs, 'params': params}\n",
    "\n",
    "# # 保存\n",
    "# with open('cache/pairs_params.pkl', 'wb') as f:\n",
    "#     pickle.dump(data, f)\n",
    "\n",
    "# print(\"Saved to cache/pairs_params.pkl ✅\")\n"
   ]
  },
  {
   "cell_type": "code",
   "execution_count": null,
   "id": "5cba7224",
   "metadata": {},
   "outputs": [],
   "source": [
    "# import pickle\n",
    "\n",
    "# with open('cache/pairs_params.pkl', 'rb') as f:\n",
    "#     data = pickle.load(f)\n",
    "\n",
    "# pairs = data['pairs']\n",
    "# params = data['params']"
   ]
  },
  {
   "cell_type": "markdown",
   "id": "1e4915ba",
   "metadata": {},
   "source": [
    "# optimizers"
   ]
  },
  {
   "cell_type": "code",
   "execution_count": 5,
   "id": "4c4233f6",
   "metadata": {},
   "outputs": [
    {
     "name": "stdout",
     "output_type": "stream",
     "text": [
      "(CVXPY) May 09 01:41:05 PM: Encountered unexpected exception importing solver CVXOPT:\n",
      "ImportError(\"dlopen(/Users/keyangpan/anaconda3/lib/python3.11/site-packages/cvxopt/base.cpython-311-darwin.so, 0x0002): Library not loaded: @rpath/liblapack.3.dylib\\n  Referenced from: <E25E40AB-7857-39B9-8DE7-28B7B0E4806B> /Users/keyangpan/anaconda3/lib/python3.11/site-packages/cvxopt/base.cpython-311-darwin.so\\n  Reason: tried: '/Users/keyangpan/anaconda3/lib/python3.11/site-packages/cvxopt/../../../liblapack.3.dylib' (no such file), '/Users/keyangpan/anaconda3/lib/python3.11/site-packages/cvxopt/../../../liblapack.3.dylib' (no such file), '/Users/keyangpan/anaconda3/bin/../lib/liblapack.3.dylib' (no such file), '/Users/keyangpan/anaconda3/bin/../lib/liblapack.3.dylib' (no such file), '/usr/local/lib/liblapack.3.dylib' (no such file), '/usr/lib/liblapack.3.dylib' (no such file, not in dyld cache)\")\n",
      "(CVXPY) May 09 01:41:05 PM: Encountered unexpected exception importing solver GLPK:\n",
      "ImportError(\"dlopen(/Users/keyangpan/anaconda3/lib/python3.11/site-packages/cvxopt/base.cpython-311-darwin.so, 0x0002): Library not loaded: @rpath/liblapack.3.dylib\\n  Referenced from: <E25E40AB-7857-39B9-8DE7-28B7B0E4806B> /Users/keyangpan/anaconda3/lib/python3.11/site-packages/cvxopt/base.cpython-311-darwin.so\\n  Reason: tried: '/Users/keyangpan/anaconda3/lib/python3.11/site-packages/cvxopt/../../../liblapack.3.dylib' (no such file), '/Users/keyangpan/anaconda3/lib/python3.11/site-packages/cvxopt/../../../liblapack.3.dylib' (no such file), '/Users/keyangpan/anaconda3/bin/../lib/liblapack.3.dylib' (no such file), '/Users/keyangpan/anaconda3/bin/../lib/liblapack.3.dylib' (no such file), '/usr/local/lib/liblapack.3.dylib' (no such file), '/usr/lib/liblapack.3.dylib' (no such file, not in dyld cache)\")\n",
      "(CVXPY) May 09 01:41:05 PM: Encountered unexpected exception importing solver GLPK_MI:\n",
      "ImportError(\"dlopen(/Users/keyangpan/anaconda3/lib/python3.11/site-packages/cvxopt/base.cpython-311-darwin.so, 0x0002): Library not loaded: @rpath/liblapack.3.dylib\\n  Referenced from: <E25E40AB-7857-39B9-8DE7-28B7B0E4806B> /Users/keyangpan/anaconda3/lib/python3.11/site-packages/cvxopt/base.cpython-311-darwin.so\\n  Reason: tried: '/Users/keyangpan/anaconda3/lib/python3.11/site-packages/cvxopt/../../../liblapack.3.dylib' (no such file), '/Users/keyangpan/anaconda3/lib/python3.11/site-packages/cvxopt/../../../liblapack.3.dylib' (no such file), '/Users/keyangpan/anaconda3/bin/../lib/liblapack.3.dylib' (no such file), '/Users/keyangpan/anaconda3/bin/../lib/liblapack.3.dylib' (no such file), '/usr/local/lib/liblapack.3.dylib' (no such file), '/usr/lib/liblapack.3.dylib' (no such file, not in dyld cache)\")\n"
     ]
    }
   ],
   "source": [
    "from optimizers import *\n",
    "from backtest import *"
   ]
  },
  {
   "cell_type": "markdown",
   "id": "d480a5c6",
   "metadata": {},
   "source": [
    "## filter good pairs"
   ]
  },
  {
   "cell_type": "code",
   "execution_count": 8,
   "id": "28c1f986",
   "metadata": {},
   "outputs": [
    {
     "data": {
      "application/vnd.jupyter.widget-view+json": {
       "model_id": "dfd9eaa4592a4a7491e39a2f17ba792a",
       "version_major": 2,
       "version_minor": 0
      },
      "text/plain": [
       "Train back-test:   0%|          | 0/300 [00:00<?, ?it/s]"
      ]
     },
     "metadata": {},
     "output_type": "display_data"
    },
    {
     "data": {
      "application/vnd.jupyter.widget-view+json": {
       "model_id": "61f190c8094b4db9bbf8935de979fe0a",
       "version_major": 2,
       "version_minor": 0
      },
      "text/plain": [
       "Test back-test:   0%|          | 0/50 [00:00<?, ?it/s]"
      ]
     },
     "metadata": {},
     "output_type": "display_data"
    }
   ],
   "source": [
    "bt = PairTradingBacktester_TrainTest(pairs[:300], params[:300], window_train, window_test) # for testing purpose\n",
    "# bt = PairTradingBacktester_TrainTest(pairs, params, window_train, window_test) # complete\n",
    "summary = bt.run(top_k=50)\n",
    "\n",
    "# ① 所有 top‑k pair 的价差 & 收益矩阵\n",
    "spreads_train  = bt.train_spreads_df\n",
    "spreads_test  = bt.test_spreads_df\n",
    "\n",
    "returns_test   = bt.test_returns_df\n",
    "returns_train   = bt.train_returns_df\n",
    "\n",
    "comp_weights=bt.comp_weights\n"
   ]
  },
  {
   "cell_type": "code",
   "execution_count": 25,
   "id": "0b43269f",
   "metadata": {},
   "outputs": [
    {
     "data": {
      "text/plain": [
       "pair          stock\n",
       "(PEBK, AMRC)  PEBK    -0.690089\n",
       "              AMRC     1.690089\n",
       "(NUV, MVF)    NUV      1.604103\n",
       "              MVF     -0.604103\n",
       "(PEBK, CXE)   PEBK    -0.533040\n",
       "                         ...   \n",
       "(ATO, LEO)    LEO      2.174013\n",
       "(BTT, MHF)    BTT      1.116139\n",
       "              MHF     -0.116139\n",
       "(MWV, BCE)    MWV      1.126349\n",
       "              BCE     -0.126349\n",
       "Name: component_w, Length: 100, dtype: float64"
      ]
     },
     "execution_count": 25,
     "metadata": {},
     "output_type": "execute_result"
    }
   ],
   "source": [
    "comp_weights"
   ]
  },
  {
   "cell_type": "markdown",
   "id": "0d55f71a",
   "metadata": {},
   "source": [
    "## EW optimizer"
   ]
  },
  {
   "cell_type": "code",
   "execution_count": 9,
   "id": "25b4c7db",
   "metadata": {},
   "outputs": [
    {
     "data": {
      "text/plain": [
       "3.6209735056606163"
      ]
     },
     "execution_count": 9,
     "metadata": {},
     "output_type": "execute_result"
    }
   ],
   "source": [
    "optimal_weights=EW_optimizer(returns_train) # train on training data\n",
    "\n",
    "port_ret=(optimal_weights*returns_test).sum(axis=1) # test on testing data\n",
    "\n",
    "port_ret.mean()*np.sqrt(252)/port_ret.std() # calculate out-of-sample sharpe ratio"
   ]
  },
  {
   "cell_type": "code",
   "execution_count": 38,
   "id": "f1b42298",
   "metadata": {},
   "outputs": [
    {
     "data": {
      "text/html": [
       "<div>\n",
       "<style scoped>\n",
       "    .dataframe tbody tr th:only-of-type {\n",
       "        vertical-align: middle;\n",
       "    }\n",
       "\n",
       "    .dataframe tbody tr th {\n",
       "        vertical-align: top;\n",
       "    }\n",
       "\n",
       "    .dataframe thead tr th {\n",
       "        text-align: left;\n",
       "    }\n",
       "\n",
       "    .dataframe thead tr:last-of-type th {\n",
       "        text-align: right;\n",
       "    }\n",
       "</style>\n",
       "<table border=\"1\" class=\"dataframe\">\n",
       "  <thead>\n",
       "    <tr>\n",
       "      <th></th>\n",
       "      <th>PEBK</th>\n",
       "      <th>NUV</th>\n",
       "      <th>PEBK</th>\n",
       "      <th>TRMK</th>\n",
       "      <th>NUV</th>\n",
       "      <th>NMI</th>\n",
       "      <th colspan=\"2\" halign=\"left\">MVF</th>\n",
       "      <th colspan=\"4\" halign=\"left\">NUV</th>\n",
       "      <th>BTT</th>\n",
       "      <th>NMI</th>\n",
       "      <th>MHF</th>\n",
       "      <th>NCA</th>\n",
       "      <th>FPL</th>\n",
       "      <th>NCA</th>\n",
       "      <th>ATO</th>\n",
       "      <th>BTT</th>\n",
       "      <th>MWV</th>\n",
       "    </tr>\n",
       "    <tr>\n",
       "      <th></th>\n",
       "      <th>AMRC</th>\n",
       "      <th>MVF</th>\n",
       "      <th>CXE</th>\n",
       "      <th>UHT</th>\n",
       "      <th>KTF</th>\n",
       "      <th>CXH</th>\n",
       "      <th>DSM</th>\n",
       "      <th>CXH</th>\n",
       "      <th>PMM</th>\n",
       "      <th>BTT</th>\n",
       "      <th>...</th>\n",
       "      <th>NNY</th>\n",
       "      <th>PMM</th>\n",
       "      <th>MHF</th>\n",
       "      <th>PMM</th>\n",
       "      <th>NMI</th>\n",
       "      <th>HE</th>\n",
       "      <th>MVF</th>\n",
       "      <th>LEO</th>\n",
       "      <th>MHF</th>\n",
       "      <th>BCE</th>\n",
       "    </tr>\n",
       "    <tr>\n",
       "      <th>date</th>\n",
       "      <th></th>\n",
       "      <th></th>\n",
       "      <th></th>\n",
       "      <th></th>\n",
       "      <th></th>\n",
       "      <th></th>\n",
       "      <th></th>\n",
       "      <th></th>\n",
       "      <th></th>\n",
       "      <th></th>\n",
       "      <th></th>\n",
       "      <th></th>\n",
       "      <th></th>\n",
       "      <th></th>\n",
       "      <th></th>\n",
       "      <th></th>\n",
       "      <th></th>\n",
       "      <th></th>\n",
       "      <th></th>\n",
       "      <th></th>\n",
       "      <th></th>\n",
       "    </tr>\n",
       "  </thead>\n",
       "  <tbody>\n",
       "    <tr>\n",
       "      <th>1990-12-31</th>\n",
       "      <td>0.000000</td>\n",
       "      <td>0.000000</td>\n",
       "      <td>0.000000</td>\n",
       "      <td>0.000000</td>\n",
       "      <td>0.000000</td>\n",
       "      <td>0.000000</td>\n",
       "      <td>0.000000</td>\n",
       "      <td>0.000000</td>\n",
       "      <td>0.000000</td>\n",
       "      <td>0.000000</td>\n",
       "      <td>...</td>\n",
       "      <td>0.000000</td>\n",
       "      <td>0.000000</td>\n",
       "      <td>0.000000</td>\n",
       "      <td>0.000000</td>\n",
       "      <td>0.000000</td>\n",
       "      <td>0.000000</td>\n",
       "      <td>0.000000</td>\n",
       "      <td>0.000000</td>\n",
       "      <td>0.000000</td>\n",
       "      <td>0.000000</td>\n",
       "    </tr>\n",
       "    <tr>\n",
       "      <th>1991-01-02</th>\n",
       "      <td>0.000000</td>\n",
       "      <td>0.007006</td>\n",
       "      <td>0.000000</td>\n",
       "      <td>0.000000</td>\n",
       "      <td>0.005786</td>\n",
       "      <td>0.029706</td>\n",
       "      <td>0.000000</td>\n",
       "      <td>0.000000</td>\n",
       "      <td>0.000000</td>\n",
       "      <td>0.000000</td>\n",
       "      <td>...</td>\n",
       "      <td>-0.002674</td>\n",
       "      <td>0.000000</td>\n",
       "      <td>0.021892</td>\n",
       "      <td>0.000000</td>\n",
       "      <td>0.000000</td>\n",
       "      <td>0.025132</td>\n",
       "      <td>0.013401</td>\n",
       "      <td>0.000000</td>\n",
       "      <td>0.001407</td>\n",
       "      <td>0.000000</td>\n",
       "    </tr>\n",
       "    <tr>\n",
       "      <th>1991-01-03</th>\n",
       "      <td>0.000000</td>\n",
       "      <td>-0.007055</td>\n",
       "      <td>0.000000</td>\n",
       "      <td>0.251233</td>\n",
       "      <td>-0.005820</td>\n",
       "      <td>-0.010094</td>\n",
       "      <td>0.028539</td>\n",
       "      <td>0.036509</td>\n",
       "      <td>0.000000</td>\n",
       "      <td>0.000000</td>\n",
       "      <td>...</td>\n",
       "      <td>0.002667</td>\n",
       "      <td>-0.014251</td>\n",
       "      <td>-0.015717</td>\n",
       "      <td>0.000000</td>\n",
       "      <td>0.034149</td>\n",
       "      <td>0.039316</td>\n",
       "      <td>0.011201</td>\n",
       "      <td>0.000000</td>\n",
       "      <td>-0.013633</td>\n",
       "      <td>0.000000</td>\n",
       "    </tr>\n",
       "    <tr>\n",
       "      <th>1991-01-04</th>\n",
       "      <td>0.034086</td>\n",
       "      <td>-0.004591</td>\n",
       "      <td>0.000000</td>\n",
       "      <td>0.000000</td>\n",
       "      <td>-0.012760</td>\n",
       "      <td>0.020152</td>\n",
       "      <td>0.000000</td>\n",
       "      <td>0.000000</td>\n",
       "      <td>-0.016549</td>\n",
       "      <td>0.000000</td>\n",
       "      <td>...</td>\n",
       "      <td>-0.017577</td>\n",
       "      <td>0.000000</td>\n",
       "      <td>0.008913</td>\n",
       "      <td>0.000000</td>\n",
       "      <td>0.000000</td>\n",
       "      <td>-0.004892</td>\n",
       "      <td>0.002409</td>\n",
       "      <td>0.041145</td>\n",
       "      <td>-0.001390</td>\n",
       "      <td>0.000000</td>\n",
       "    </tr>\n",
       "    <tr>\n",
       "      <th>1991-01-07</th>\n",
       "      <td>-0.031468</td>\n",
       "      <td>-0.006974</td>\n",
       "      <td>0.037208</td>\n",
       "      <td>0.000000</td>\n",
       "      <td>0.005713</td>\n",
       "      <td>-0.010199</td>\n",
       "      <td>0.005287</td>\n",
       "      <td>0.035960</td>\n",
       "      <td>0.004811</td>\n",
       "      <td>-0.007625</td>\n",
       "      <td>...</td>\n",
       "      <td>-0.002628</td>\n",
       "      <td>0.016136</td>\n",
       "      <td>-0.008993</td>\n",
       "      <td>0.000000</td>\n",
       "      <td>0.034149</td>\n",
       "      <td>0.046972</td>\n",
       "      <td>0.011355</td>\n",
       "      <td>0.056516</td>\n",
       "      <td>0.014820</td>\n",
       "      <td>0.000000</td>\n",
       "    </tr>\n",
       "    <tr>\n",
       "      <th>...</th>\n",
       "      <td>...</td>\n",
       "      <td>...</td>\n",
       "      <td>...</td>\n",
       "      <td>...</td>\n",
       "      <td>...</td>\n",
       "      <td>...</td>\n",
       "      <td>...</td>\n",
       "      <td>...</td>\n",
       "      <td>...</td>\n",
       "      <td>...</td>\n",
       "      <td>...</td>\n",
       "      <td>...</td>\n",
       "      <td>...</td>\n",
       "      <td>...</td>\n",
       "      <td>...</td>\n",
       "      <td>...</td>\n",
       "      <td>...</td>\n",
       "      <td>...</td>\n",
       "      <td>...</td>\n",
       "      <td>...</td>\n",
       "      <td>...</td>\n",
       "    </tr>\n",
       "    <tr>\n",
       "      <th>1991-06-25</th>\n",
       "      <td>0.000000</td>\n",
       "      <td>0.006991</td>\n",
       "      <td>0.000000</td>\n",
       "      <td>-0.801211</td>\n",
       "      <td>-0.005739</td>\n",
       "      <td>-0.010160</td>\n",
       "      <td>-0.026537</td>\n",
       "      <td>-0.034068</td>\n",
       "      <td>0.004802</td>\n",
       "      <td>0.000000</td>\n",
       "      <td>...</td>\n",
       "      <td>0.000000</td>\n",
       "      <td>0.002128</td>\n",
       "      <td>0.000000</td>\n",
       "      <td>-0.039960</td>\n",
       "      <td>0.000000</td>\n",
       "      <td>0.050401</td>\n",
       "      <td>0.013316</td>\n",
       "      <td>0.080937</td>\n",
       "      <td>0.000000</td>\n",
       "      <td>0.053624</td>\n",
       "    </tr>\n",
       "    <tr>\n",
       "      <th>1991-06-26</th>\n",
       "      <td>0.000000</td>\n",
       "      <td>0.000000</td>\n",
       "      <td>0.000000</td>\n",
       "      <td>-8.060923</td>\n",
       "      <td>0.011413</td>\n",
       "      <td>0.000163</td>\n",
       "      <td>0.007012</td>\n",
       "      <td>0.019179</td>\n",
       "      <td>0.000000</td>\n",
       "      <td>0.014847</td>\n",
       "      <td>...</td>\n",
       "      <td>0.002597</td>\n",
       "      <td>-0.028745</td>\n",
       "      <td>-0.002301</td>\n",
       "      <td>0.115206</td>\n",
       "      <td>0.032473</td>\n",
       "      <td>0.000000</td>\n",
       "      <td>0.024626</td>\n",
       "      <td>0.000000</td>\n",
       "      <td>-0.024413</td>\n",
       "      <td>-0.146277</td>\n",
       "    </tr>\n",
       "    <tr>\n",
       "      <th>1991-06-27</th>\n",
       "      <td>0.000000</td>\n",
       "      <td>0.025733</td>\n",
       "      <td>0.000000</td>\n",
       "      <td>-0.734882</td>\n",
       "      <td>0.018502</td>\n",
       "      <td>0.009896</td>\n",
       "      <td>-0.018972</td>\n",
       "      <td>-0.033590</td>\n",
       "      <td>0.016327</td>\n",
       "      <td>0.019350</td>\n",
       "      <td>...</td>\n",
       "      <td>0.014509</td>\n",
       "      <td>0.000000</td>\n",
       "      <td>0.015106</td>\n",
       "      <td>0.000000</td>\n",
       "      <td>-0.033563</td>\n",
       "      <td>0.000000</td>\n",
       "      <td>-0.011411</td>\n",
       "      <td>0.000000</td>\n",
       "      <td>0.000000</td>\n",
       "      <td>0.061789</td>\n",
       "    </tr>\n",
       "    <tr>\n",
       "      <th>1991-06-28</th>\n",
       "      <td>0.000000</td>\n",
       "      <td>0.000000</td>\n",
       "      <td>0.000000</td>\n",
       "      <td>2.771900</td>\n",
       "      <td>0.000000</td>\n",
       "      <td>0.000165</td>\n",
       "      <td>0.000000</td>\n",
       "      <td>0.018919</td>\n",
       "      <td>0.000000</td>\n",
       "      <td>0.000000</td>\n",
       "      <td>...</td>\n",
       "      <td>-0.002642</td>\n",
       "      <td>0.000000</td>\n",
       "      <td>-0.015337</td>\n",
       "      <td>0.000000</td>\n",
       "      <td>0.032473</td>\n",
       "      <td>0.000000</td>\n",
       "      <td>0.024963</td>\n",
       "      <td>0.000000</td>\n",
       "      <td>0.000000</td>\n",
       "      <td>0.096500</td>\n",
       "    </tr>\n",
       "    <tr>\n",
       "      <th>1991-07-01</th>\n",
       "      <td>0.000000</td>\n",
       "      <td>0.000000</td>\n",
       "      <td>0.000000</td>\n",
       "      <td>-1.712437</td>\n",
       "      <td>-0.024732</td>\n",
       "      <td>-0.020323</td>\n",
       "      <td>0.018618</td>\n",
       "      <td>0.004199</td>\n",
       "      <td>-0.021503</td>\n",
       "      <td>-0.004364</td>\n",
       "      <td>...</td>\n",
       "      <td>-0.012048</td>\n",
       "      <td>-0.030015</td>\n",
       "      <td>0.000000</td>\n",
       "      <td>0.037324</td>\n",
       "      <td>-0.023567</td>\n",
       "      <td>0.000000</td>\n",
       "      <td>0.000000</td>\n",
       "      <td>0.000000</td>\n",
       "      <td>-0.026579</td>\n",
       "      <td>-0.194278</td>\n",
       "    </tr>\n",
       "  </tbody>\n",
       "</table>\n",
       "<p>127 rows × 50 columns</p>\n",
       "</div>"
      ],
      "text/plain": [
       "                PEBK       NUV      PEBK      TRMK       NUV       NMI  \\\n",
       "                AMRC       MVF       CXE       UHT       KTF       CXH   \n",
       "date                                                                     \n",
       "1990-12-31  0.000000  0.000000  0.000000  0.000000  0.000000  0.000000   \n",
       "1991-01-02  0.000000  0.007006  0.000000  0.000000  0.005786  0.029706   \n",
       "1991-01-03  0.000000 -0.007055  0.000000  0.251233 -0.005820 -0.010094   \n",
       "1991-01-04  0.034086 -0.004591  0.000000  0.000000 -0.012760  0.020152   \n",
       "1991-01-07 -0.031468 -0.006974  0.037208  0.000000  0.005713 -0.010199   \n",
       "...              ...       ...       ...       ...       ...       ...   \n",
       "1991-06-25  0.000000  0.006991  0.000000 -0.801211 -0.005739 -0.010160   \n",
       "1991-06-26  0.000000  0.000000  0.000000 -8.060923  0.011413  0.000163   \n",
       "1991-06-27  0.000000  0.025733  0.000000 -0.734882  0.018502  0.009896   \n",
       "1991-06-28  0.000000  0.000000  0.000000  2.771900  0.000000  0.000165   \n",
       "1991-07-01  0.000000  0.000000  0.000000 -1.712437 -0.024732 -0.020323   \n",
       "\n",
       "                 MVF                 NUV            ...                 BTT  \\\n",
       "                 DSM       CXH       PMM       BTT  ...       NNY       PMM   \n",
       "date                                                ...                       \n",
       "1990-12-31  0.000000  0.000000  0.000000  0.000000  ...  0.000000  0.000000   \n",
       "1991-01-02  0.000000  0.000000  0.000000  0.000000  ... -0.002674  0.000000   \n",
       "1991-01-03  0.028539  0.036509  0.000000  0.000000  ...  0.002667 -0.014251   \n",
       "1991-01-04  0.000000  0.000000 -0.016549  0.000000  ... -0.017577  0.000000   \n",
       "1991-01-07  0.005287  0.035960  0.004811 -0.007625  ... -0.002628  0.016136   \n",
       "...              ...       ...       ...       ...  ...       ...       ...   \n",
       "1991-06-25 -0.026537 -0.034068  0.004802  0.000000  ...  0.000000  0.002128   \n",
       "1991-06-26  0.007012  0.019179  0.000000  0.014847  ...  0.002597 -0.028745   \n",
       "1991-06-27 -0.018972 -0.033590  0.016327  0.019350  ...  0.014509  0.000000   \n",
       "1991-06-28  0.000000  0.018919  0.000000  0.000000  ... -0.002642  0.000000   \n",
       "1991-07-01  0.018618  0.004199 -0.021503 -0.004364  ... -0.012048 -0.030015   \n",
       "\n",
       "                 NMI       MHF       NCA       FPL       NCA       ATO  \\\n",
       "                 MHF       PMM       NMI        HE       MVF       LEO   \n",
       "date                                                                     \n",
       "1990-12-31  0.000000  0.000000  0.000000  0.000000  0.000000  0.000000   \n",
       "1991-01-02  0.021892  0.000000  0.000000  0.025132  0.013401  0.000000   \n",
       "1991-01-03 -0.015717  0.000000  0.034149  0.039316  0.011201  0.000000   \n",
       "1991-01-04  0.008913  0.000000  0.000000 -0.004892  0.002409  0.041145   \n",
       "1991-01-07 -0.008993  0.000000  0.034149  0.046972  0.011355  0.056516   \n",
       "...              ...       ...       ...       ...       ...       ...   \n",
       "1991-06-25  0.000000 -0.039960  0.000000  0.050401  0.013316  0.080937   \n",
       "1991-06-26 -0.002301  0.115206  0.032473  0.000000  0.024626  0.000000   \n",
       "1991-06-27  0.015106  0.000000 -0.033563  0.000000 -0.011411  0.000000   \n",
       "1991-06-28 -0.015337  0.000000  0.032473  0.000000  0.024963  0.000000   \n",
       "1991-07-01  0.000000  0.037324 -0.023567  0.000000  0.000000  0.000000   \n",
       "\n",
       "                 BTT       MWV  \n",
       "                 MHF       BCE  \n",
       "date                            \n",
       "1990-12-31  0.000000  0.000000  \n",
       "1991-01-02  0.001407  0.000000  \n",
       "1991-01-03 -0.013633  0.000000  \n",
       "1991-01-04 -0.001390  0.000000  \n",
       "1991-01-07  0.014820  0.000000  \n",
       "...              ...       ...  \n",
       "1991-06-25  0.000000  0.053624  \n",
       "1991-06-26 -0.024413 -0.146277  \n",
       "1991-06-27  0.000000  0.061789  \n",
       "1991-06-28  0.000000  0.096500  \n",
       "1991-07-01 -0.026579 -0.194278  \n",
       "\n",
       "[127 rows x 50 columns]"
      ]
     },
     "execution_count": 38,
     "metadata": {},
     "output_type": "execute_result"
    }
   ],
   "source": [
    "returns_test"
   ]
  },
  {
   "cell_type": "markdown",
   "id": "979270f4",
   "metadata": {},
   "source": [
    "## Sharpe optimizer"
   ]
  },
  {
   "cell_type": "code",
   "execution_count": 27,
   "id": "f214a541",
   "metadata": {},
   "outputs": [
    {
     "data": {
      "text/plain": [
       "5.35100883334952"
      ]
     },
     "execution_count": 27,
     "metadata": {},
     "output_type": "execute_result"
    }
   ],
   "source": [
    "optimal_weights=Sharpe_optimizer(returns_train)  # train on training data\n",
    "\n",
    "port_ret=(optimal_weights*returns_test).sum(axis=1) # test on testing data\n",
    "\n",
    "port_ret.mean()*np.sqrt(252)/port_ret.std() # calculate out-of-sample sharpe ratio"
   ]
  },
  {
   "cell_type": "markdown",
   "id": "8e920d6f",
   "metadata": {},
   "source": [
    "## MRP optimizer"
   ]
  },
  {
   "cell_type": "code",
   "execution_count": 29,
   "id": "1402cde5",
   "metadata": {},
   "outputs": [
    {
     "name": "stdout",
     "output_type": "stream",
     "text": [
      "The maximum number of function evaluations is exceeded.\n",
      "Number of iterations: 5000, function evaluations: 5001, CG iterations: 8002, optimality: 9.82e-02, constraint violation: 3.07e-08, execution time:  2.6 s.\n"
     ]
    }
   ],
   "source": [
    "optimal_weights=MRP_optimizer_scipy(spreads_data=spreads_train)"
   ]
  },
  {
   "cell_type": "code",
   "execution_count": 30,
   "id": "0bc6aca1",
   "metadata": {},
   "outputs": [
    {
     "data": {
      "text/plain": [
       "[<matplotlib.lines.Line2D at 0x37bc611d0>]"
      ]
     },
     "execution_count": 30,
     "metadata": {},
     "output_type": "execute_result"
    },
    {
     "data": {
      "image/png": "[encoded data removed]",
      "text/plain": [
       "<Figure size 640x480 with 1 Axes>"
      ]
     },
     "metadata": {},
     "output_type": "display_data"
    }
   ],
   "source": [
    "import matplotlib as mpl\n",
    "\n",
    "import matplotlib.pyplot as plt\n",
    "\n",
    "combined_spread=(optimal_weights*spreads_train).sum(axis=1) # linearly combine different spreads (training set)\n",
    "\n",
    "combined_spread_mu=combined_spread.mean()\n",
    "combined_spread_std=combined_spread.std()\n",
    "\n",
    "\n",
    "plt.plot(combined_spread)"
   ]
  },
  {
   "cell_type": "markdown",
   "id": "4693ce19",
   "metadata": {},
   "source": [
    "可以看到，mean-reverting portfolio optimization在训练集上的效果极好，在保持大方差（单次交易利润）的前提下，基本完全消除了时间序列上的相关性，均值回归的速度极快。"
   ]
  },
  {
   "cell_type": "code",
   "execution_count": 32,
   "id": "1257967d",
   "metadata": {},
   "outputs": [
    {
     "data": {
      "text/plain": [
       "[<matplotlib.lines.Line2D at 0x37ef2a090>]"
      ]
     },
     "execution_count": 32,
     "metadata": {},
     "output_type": "execute_result"
    },
    {
     "data": {
      "image/png": "[encoded data removed]",
      "text/plain": [
       "<Figure size 640x480 with 1 Axes>"
      ]
     },
     "metadata": {},
     "output_type": "display_data"
    }
   ],
   "source": [
    "combined_spread=(optimal_weights*spreads_test).sum(axis=1) # linearly combine different spreads (testing set)\n",
    "\n",
    "combined_spread_mu=combined_spread.mean()\n",
    "combined_spread_std=combined_spread.std()\n",
    "\n",
    "\n",
    "plt.plot(combined_spread)"
   ]
  },
  {
   "cell_type": "markdown",
   "id": "16e7e984",
   "metadata": {},
   "source": [
    "<font color='red'>\n",
    "\n",
    "测试集上其实也是牛的，但是中间发生了结构性改变，是由于rebalance频率太低导致的。需要潘神把rebalance频率提高\n",
    "\n",
    "</font>"
   ]
  },
  {
   "cell_type": "code",
   "execution_count": 33,
   "id": "16945e22",
   "metadata": {},
   "outputs": [
    {
     "data": {
      "text/plain": [
       "stock\n",
       "AEP    -0.038985\n",
       "AMRC    0.493419\n",
       "ATO    -0.264892\n",
       "BCE     0.010688\n",
       "BIF     0.232257\n",
       "BMY     0.076239\n",
       "BTT    -0.007713\n",
       "CMU     0.375293\n",
       "CXE     0.290182\n",
       "CXH    -0.119151\n",
       "DSM     0.084848\n",
       "FARM    0.008493\n",
       "FPL     0.013645\n",
       "FRST    0.027686\n",
       "HE     -0.035832\n",
       "HRB    -0.051966\n",
       "IFF    -0.026585\n",
       "IPW     0.065776\n",
       "JHS    -0.067745\n",
       "KTF     0.042468\n",
       "LEO    -0.041858\n",
       "MAYS   -0.141320\n",
       "MCN     0.047446\n",
       "MDU    -0.009854\n",
       "MGEE   -0.029156\n",
       "MGF    -0.193549\n",
       "MHF    -0.112224\n",
       "MSEX    0.141378\n",
       "MVF     0.133742\n",
       "MWV    -0.095280\n",
       "NCA     0.050473\n",
       "NJR     0.020049\n",
       "NMI     0.317168\n",
       "NNY    -0.005376\n",
       "NUV     0.237710\n",
       "OTTR   -0.015593\n",
       "PCF     0.100776\n",
       "PDI     0.061023\n",
       "PEBK   -0.302367\n",
       "PMM    -0.111106\n",
       "SCP    -0.089738\n",
       "TFB     0.201927\n",
       "TRMK    0.033894\n",
       "UHT    -0.261814\n",
       "UNP    -0.004922\n",
       "VXS    -0.044487\n",
       "WAG     0.008596\n",
       "WR     -0.003663\n",
       "Name: flat_w, dtype: float64"
      ]
     },
     "execution_count": 33,
     "metadata": {},
     "output_type": "execute_result"
    }
   ],
   "source": [
    "\n",
    "weights_by_levels=pd.concat([comp_weights.reset_index(level=1),optimal_weights],axis=1) # different levels of weights, combined by pair index\n",
    "\n",
    "weights_by_levels['flat_w']=weights_by_levels['component_w']*weights_by_levels['opt_w']\n",
    "weights_single_stocks=weights_by_levels.groupby('stock')['flat_w'].sum()\n",
    "weights_single_stocks"
   ]
  },
  {
   "cell_type": "markdown",
   "id": "702488e9",
   "metadata": {},
   "source": [
    "<font color='red'>\n",
    "\n",
    "请注意，weights_single_stocks的数值并不是指资金权重，而是log price线性组合（股票数量）的权重。需要潘神正确地处理这个逻辑，正确计算returns。\n",
    "\n",
    "</font>"
   ]
  },
  {
   "cell_type": "markdown",
   "id": "2b3f78a6",
   "metadata": {},
   "source": [
    "<font color='blue'>\n",
    "\n",
    "潘神todos:\n",
    "\n",
    "1. 把mean-reversion portfolio的交易逻辑写出来。\n",
    "2. 把rebalancing的频率调成月频，滚动回测3个不同的optimizers。\n",
    "\n",
    "</font>"
   ]
  },
  {
   "cell_type": "markdown",
   "id": "f2caae5d",
   "metadata": {},
   "source": [
    "<font color='green'>\n",
    "\n",
    "与潘神确认：\n",
    "\n",
    "1. beta是线性组合的权重，不是资金权重，是否有正确处理这个逻辑？\n",
    "答：beta表示pair中股票数量的权重\n",
    "2. \n",
    "\n",
    "</font>"
   ]
  },
  {
   "cell_type": "markdown",
   "id": "83fd1334",
   "metadata": {},
   "source": []
  }
 ],
 "metadata": {
  "kernelspec": {
   "display_name": "base",
   "language": "python",
   "name": "python3"
  },
  "language_info": {
   "codemirror_mode": {
    "name": "ipython",
    "version": 3
   },
   "file_extension": ".py",
   "mimetype": "text/x-python",
   "name": "python",
   "nbconvert_exporter": "python",
   "pygments_lexer": "ipython3",
   "version": "3.11.5"
  }
 },
 "nbformat": 4,
 "nbformat_minor": 5
}
